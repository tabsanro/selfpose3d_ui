{
 "cells": [
  {
   "cell_type": "code",
   "execution_count": 1,
   "metadata": {},
   "outputs": [],
   "source": [
    "import time\n",
    "from contextlib import contextmanager\n",
    "\n",
    "@contextmanager\n",
    "def timer():\n",
    "    start = time.time()\n",
    "    yield\n",
    "    print('Elapsed: {:.2f}ms'.format((time.time() - start)*1000))"
   ]
  },
  {
   "cell_type": "markdown",
   "metadata": {},
   "source": [
    "# TORCH"
   ]
  },
  {
   "cell_type": "code",
   "execution_count": 2,
   "metadata": {},
   "outputs": [
    {
     "name": "stdout",
     "output_type": "stream",
     "text": [
      "1.13.1\n"
     ]
    },
    {
     "name": "stderr",
     "output_type": "stream",
     "text": [
      "/home/dojan/anaconda3/envs/selfpose3d/lib/python3.9/site-packages/tqdm/auto.py:21: TqdmWarning: IProgress not found. Please update jupyter and ipywidgets. See https://ipywidgets.readthedocs.io/en/stable/user_install.html\n",
      "  from .autonotebook import tqdm as notebook_tqdm\n"
     ]
    }
   ],
   "source": [
    "import torch\n",
    "print(torch.__version__)"
   ]
  },
  {
   "cell_type": "code",
   "execution_count": 3,
   "metadata": {},
   "outputs": [],
   "source": [
    "gpus = [0]"
   ]
  },
  {
   "cell_type": "code",
   "execution_count": 4,
   "metadata": {},
   "outputs": [
    {
     "name": "stdout",
     "output_type": "stream",
     "text": [
      "cuda\n"
     ]
    }
   ],
   "source": [
    "if torch.cuda.is_available():\n",
    "    torch.cuda.set_device(gpus[0])\n",
    "    device = torch.device(\"cuda\")\n",
    "    torch.backends.cuda.matmul.allow_tf32 = True\n",
    "    torch.backends.cudnn.enabled = True\n",
    "    torch.backends.cudnn.benchmark = False\n",
    "    torch.backends.cudnn.deterministic = False\n",
    "\n",
    "print(device)"
   ]
  },
  {
   "cell_type": "code",
   "execution_count": 5,
   "metadata": {},
   "outputs": [],
   "source": [
    "import pickle\n",
    "\n",
    "with open('view.pkl', 'rb') as f:\n",
    "    view = pickle.load(f)"
   ]
  },
  {
   "cell_type": "code",
   "execution_count": 6,
   "metadata": {},
   "outputs": [],
   "source": [
    "import copy\n",
    "\n",
    "original = copy.deepcopy(view)"
   ]
  },
  {
   "cell_type": "code",
   "execution_count": 7,
   "metadata": {},
   "outputs": [],
   "source": [
    "ckpt_path = 'SelfPose3d/models/POC_posenet.pth.tar'"
   ]
  },
  {
   "cell_type": "code",
   "execution_count": 8,
   "metadata": {},
   "outputs": [],
   "source": [
    "import _init_paths\n",
    "from SelfPose3d.lib.core.config import config, update_config\n",
    "\n",
    "update_config(r\"/home/dojan/FOCUS-1/modules/SelfPose3d/config/cam4_posenet.yaml\")"
   ]
  },
  {
   "cell_type": "code",
   "execution_count": 9,
   "metadata": {},
   "outputs": [
    {
     "data": {
      "text/plain": [
       "MultiPersonPoseNetSSV(\n",
       "  (backbone): PoseResNet(\n",
       "    (conv1): Conv2d(3, 64, kernel_size=(7, 7), stride=(2, 2), padding=(3, 3), bias=False)\n",
       "    (bn1): BatchNorm2d(64, eps=1e-05, momentum=0.1, affine=True, track_running_stats=True)\n",
       "    (relu): ReLU(inplace=True)\n",
       "    (maxpool): MaxPool2d(kernel_size=3, stride=2, padding=1, dilation=1, ceil_mode=False)\n",
       "    (layer1): Sequential(\n",
       "      (0): Bottleneck(\n",
       "        (conv1): Conv2d(64, 64, kernel_size=(1, 1), stride=(1, 1), bias=False)\n",
       "        (bn1): BatchNorm2d(64, eps=1e-05, momentum=0.1, affine=True, track_running_stats=True)\n",
       "        (conv2): Conv2d(64, 64, kernel_size=(3, 3), stride=(1, 1), padding=(1, 1), bias=False)\n",
       "        (bn2): BatchNorm2d(64, eps=1e-05, momentum=0.1, affine=True, track_running_stats=True)\n",
       "        (conv3): Conv2d(64, 256, kernel_size=(1, 1), stride=(1, 1), bias=False)\n",
       "        (bn3): BatchNorm2d(256, eps=1e-05, momentum=0.1, affine=True, track_running_stats=True)\n",
       "        (relu): ReLU(inplace=True)\n",
       "        (downsample): Sequential(\n",
       "          (0): Conv2d(64, 256, kernel_size=(1, 1), stride=(1, 1), bias=False)\n",
       "          (1): BatchNorm2d(256, eps=1e-05, momentum=0.1, affine=True, track_running_stats=True)\n",
       "        )\n",
       "      )\n",
       "      (1): Bottleneck(\n",
       "        (conv1): Conv2d(256, 64, kernel_size=(1, 1), stride=(1, 1), bias=False)\n",
       "        (bn1): BatchNorm2d(64, eps=1e-05, momentum=0.1, affine=True, track_running_stats=True)\n",
       "        (conv2): Conv2d(64, 64, kernel_size=(3, 3), stride=(1, 1), padding=(1, 1), bias=False)\n",
       "        (bn2): BatchNorm2d(64, eps=1e-05, momentum=0.1, affine=True, track_running_stats=True)\n",
       "        (conv3): Conv2d(64, 256, kernel_size=(1, 1), stride=(1, 1), bias=False)\n",
       "        (bn3): BatchNorm2d(256, eps=1e-05, momentum=0.1, affine=True, track_running_stats=True)\n",
       "        (relu): ReLU(inplace=True)\n",
       "      )\n",
       "      (2): Bottleneck(\n",
       "        (conv1): Conv2d(256, 64, kernel_size=(1, 1), stride=(1, 1), bias=False)\n",
       "        (bn1): BatchNorm2d(64, eps=1e-05, momentum=0.1, affine=True, track_running_stats=True)\n",
       "        (conv2): Conv2d(64, 64, kernel_size=(3, 3), stride=(1, 1), padding=(1, 1), bias=False)\n",
       "        (bn2): BatchNorm2d(64, eps=1e-05, momentum=0.1, affine=True, track_running_stats=True)\n",
       "        (conv3): Conv2d(64, 256, kernel_size=(1, 1), stride=(1, 1), bias=False)\n",
       "        (bn3): BatchNorm2d(256, eps=1e-05, momentum=0.1, affine=True, track_running_stats=True)\n",
       "        (relu): ReLU(inplace=True)\n",
       "      )\n",
       "    )\n",
       "    (layer2): Sequential(\n",
       "      (0): Bottleneck(\n",
       "        (conv1): Conv2d(256, 128, kernel_size=(1, 1), stride=(1, 1), bias=False)\n",
       "        (bn1): BatchNorm2d(128, eps=1e-05, momentum=0.1, affine=True, track_running_stats=True)\n",
       "        (conv2): Conv2d(128, 128, kernel_size=(3, 3), stride=(2, 2), padding=(1, 1), bias=False)\n",
       "        (bn2): BatchNorm2d(128, eps=1e-05, momentum=0.1, affine=True, track_running_stats=True)\n",
       "        (conv3): Conv2d(128, 512, kernel_size=(1, 1), stride=(1, 1), bias=False)\n",
       "        (bn3): BatchNorm2d(512, eps=1e-05, momentum=0.1, affine=True, track_running_stats=True)\n",
       "        (relu): ReLU(inplace=True)\n",
       "        (downsample): Sequential(\n",
       "          (0): Conv2d(256, 512, kernel_size=(1, 1), stride=(2, 2), bias=False)\n",
       "          (1): BatchNorm2d(512, eps=1e-05, momentum=0.1, affine=True, track_running_stats=True)\n",
       "        )\n",
       "      )\n",
       "      (1): Bottleneck(\n",
       "        (conv1): Conv2d(512, 128, kernel_size=(1, 1), stride=(1, 1), bias=False)\n",
       "        (bn1): BatchNorm2d(128, eps=1e-05, momentum=0.1, affine=True, track_running_stats=True)\n",
       "        (conv2): Conv2d(128, 128, kernel_size=(3, 3), stride=(1, 1), padding=(1, 1), bias=False)\n",
       "        (bn2): BatchNorm2d(128, eps=1e-05, momentum=0.1, affine=True, track_running_stats=True)\n",
       "        (conv3): Conv2d(128, 512, kernel_size=(1, 1), stride=(1, 1), bias=False)\n",
       "        (bn3): BatchNorm2d(512, eps=1e-05, momentum=0.1, affine=True, track_running_stats=True)\n",
       "        (relu): ReLU(inplace=True)\n",
       "      )\n",
       "      (2): Bottleneck(\n",
       "        (conv1): Conv2d(512, 128, kernel_size=(1, 1), stride=(1, 1), bias=False)\n",
       "        (bn1): BatchNorm2d(128, eps=1e-05, momentum=0.1, affine=True, track_running_stats=True)\n",
       "        (conv2): Conv2d(128, 128, kernel_size=(3, 3), stride=(1, 1), padding=(1, 1), bias=False)\n",
       "        (bn2): BatchNorm2d(128, eps=1e-05, momentum=0.1, affine=True, track_running_stats=True)\n",
       "        (conv3): Conv2d(128, 512, kernel_size=(1, 1), stride=(1, 1), bias=False)\n",
       "        (bn3): BatchNorm2d(512, eps=1e-05, momentum=0.1, affine=True, track_running_stats=True)\n",
       "        (relu): ReLU(inplace=True)\n",
       "      )\n",
       "      (3): Bottleneck(\n",
       "        (conv1): Conv2d(512, 128, kernel_size=(1, 1), stride=(1, 1), bias=False)\n",
       "        (bn1): BatchNorm2d(128, eps=1e-05, momentum=0.1, affine=True, track_running_stats=True)\n",
       "        (conv2): Conv2d(128, 128, kernel_size=(3, 3), stride=(1, 1), padding=(1, 1), bias=False)\n",
       "        (bn2): BatchNorm2d(128, eps=1e-05, momentum=0.1, affine=True, track_running_stats=True)\n",
       "        (conv3): Conv2d(128, 512, kernel_size=(1, 1), stride=(1, 1), bias=False)\n",
       "        (bn3): BatchNorm2d(512, eps=1e-05, momentum=0.1, affine=True, track_running_stats=True)\n",
       "        (relu): ReLU(inplace=True)\n",
       "      )\n",
       "    )\n",
       "    (layer3): Sequential(\n",
       "      (0): Bottleneck(\n",
       "        (conv1): Conv2d(512, 256, kernel_size=(1, 1), stride=(1, 1), bias=False)\n",
       "        (bn1): BatchNorm2d(256, eps=1e-05, momentum=0.1, affine=True, track_running_stats=True)\n",
       "        (conv2): Conv2d(256, 256, kernel_size=(3, 3), stride=(2, 2), padding=(1, 1), bias=False)\n",
       "        (bn2): BatchNorm2d(256, eps=1e-05, momentum=0.1, affine=True, track_running_stats=True)\n",
       "        (conv3): Conv2d(256, 1024, kernel_size=(1, 1), stride=(1, 1), bias=False)\n",
       "        (bn3): BatchNorm2d(1024, eps=1e-05, momentum=0.1, affine=True, track_running_stats=True)\n",
       "        (relu): ReLU(inplace=True)\n",
       "        (downsample): Sequential(\n",
       "          (0): Conv2d(512, 1024, kernel_size=(1, 1), stride=(2, 2), bias=False)\n",
       "          (1): BatchNorm2d(1024, eps=1e-05, momentum=0.1, affine=True, track_running_stats=True)\n",
       "        )\n",
       "      )\n",
       "      (1): Bottleneck(\n",
       "        (conv1): Conv2d(1024, 256, kernel_size=(1, 1), stride=(1, 1), bias=False)\n",
       "        (bn1): BatchNorm2d(256, eps=1e-05, momentum=0.1, affine=True, track_running_stats=True)\n",
       "        (conv2): Conv2d(256, 256, kernel_size=(3, 3), stride=(1, 1), padding=(1, 1), bias=False)\n",
       "        (bn2): BatchNorm2d(256, eps=1e-05, momentum=0.1, affine=True, track_running_stats=True)\n",
       "        (conv3): Conv2d(256, 1024, kernel_size=(1, 1), stride=(1, 1), bias=False)\n",
       "        (bn3): BatchNorm2d(1024, eps=1e-05, momentum=0.1, affine=True, track_running_stats=True)\n",
       "        (relu): ReLU(inplace=True)\n",
       "      )\n",
       "      (2): Bottleneck(\n",
       "        (conv1): Conv2d(1024, 256, kernel_size=(1, 1), stride=(1, 1), bias=False)\n",
       "        (bn1): BatchNorm2d(256, eps=1e-05, momentum=0.1, affine=True, track_running_stats=True)\n",
       "        (conv2): Conv2d(256, 256, kernel_size=(3, 3), stride=(1, 1), padding=(1, 1), bias=False)\n",
       "        (bn2): BatchNorm2d(256, eps=1e-05, momentum=0.1, affine=True, track_running_stats=True)\n",
       "        (conv3): Conv2d(256, 1024, kernel_size=(1, 1), stride=(1, 1), bias=False)\n",
       "        (bn3): BatchNorm2d(1024, eps=1e-05, momentum=0.1, affine=True, track_running_stats=True)\n",
       "        (relu): ReLU(inplace=True)\n",
       "      )\n",
       "      (3): Bottleneck(\n",
       "        (conv1): Conv2d(1024, 256, kernel_size=(1, 1), stride=(1, 1), bias=False)\n",
       "        (bn1): BatchNorm2d(256, eps=1e-05, momentum=0.1, affine=True, track_running_stats=True)\n",
       "        (conv2): Conv2d(256, 256, kernel_size=(3, 3), stride=(1, 1), padding=(1, 1), bias=False)\n",
       "        (bn2): BatchNorm2d(256, eps=1e-05, momentum=0.1, affine=True, track_running_stats=True)\n",
       "        (conv3): Conv2d(256, 1024, kernel_size=(1, 1), stride=(1, 1), bias=False)\n",
       "        (bn3): BatchNorm2d(1024, eps=1e-05, momentum=0.1, affine=True, track_running_stats=True)\n",
       "        (relu): ReLU(inplace=True)\n",
       "      )\n",
       "      (4): Bottleneck(\n",
       "        (conv1): Conv2d(1024, 256, kernel_size=(1, 1), stride=(1, 1), bias=False)\n",
       "        (bn1): BatchNorm2d(256, eps=1e-05, momentum=0.1, affine=True, track_running_stats=True)\n",
       "        (conv2): Conv2d(256, 256, kernel_size=(3, 3), stride=(1, 1), padding=(1, 1), bias=False)\n",
       "        (bn2): BatchNorm2d(256, eps=1e-05, momentum=0.1, affine=True, track_running_stats=True)\n",
       "        (conv3): Conv2d(256, 1024, kernel_size=(1, 1), stride=(1, 1), bias=False)\n",
       "        (bn3): BatchNorm2d(1024, eps=1e-05, momentum=0.1, affine=True, track_running_stats=True)\n",
       "        (relu): ReLU(inplace=True)\n",
       "      )\n",
       "      (5): Bottleneck(\n",
       "        (conv1): Conv2d(1024, 256, kernel_size=(1, 1), stride=(1, 1), bias=False)\n",
       "        (bn1): BatchNorm2d(256, eps=1e-05, momentum=0.1, affine=True, track_running_stats=True)\n",
       "        (conv2): Conv2d(256, 256, kernel_size=(3, 3), stride=(1, 1), padding=(1, 1), bias=False)\n",
       "        (bn2): BatchNorm2d(256, eps=1e-05, momentum=0.1, affine=True, track_running_stats=True)\n",
       "        (conv3): Conv2d(256, 1024, kernel_size=(1, 1), stride=(1, 1), bias=False)\n",
       "        (bn3): BatchNorm2d(1024, eps=1e-05, momentum=0.1, affine=True, track_running_stats=True)\n",
       "        (relu): ReLU(inplace=True)\n",
       "      )\n",
       "    )\n",
       "    (layer4): Sequential(\n",
       "      (0): Bottleneck(\n",
       "        (conv1): Conv2d(1024, 512, kernel_size=(1, 1), stride=(1, 1), bias=False)\n",
       "        (bn1): BatchNorm2d(512, eps=1e-05, momentum=0.1, affine=True, track_running_stats=True)\n",
       "        (conv2): Conv2d(512, 512, kernel_size=(3, 3), stride=(2, 2), padding=(1, 1), bias=False)\n",
       "        (bn2): BatchNorm2d(512, eps=1e-05, momentum=0.1, affine=True, track_running_stats=True)\n",
       "        (conv3): Conv2d(512, 2048, kernel_size=(1, 1), stride=(1, 1), bias=False)\n",
       "        (bn3): BatchNorm2d(2048, eps=1e-05, momentum=0.1, affine=True, track_running_stats=True)\n",
       "        (relu): ReLU(inplace=True)\n",
       "        (downsample): Sequential(\n",
       "          (0): Conv2d(1024, 2048, kernel_size=(1, 1), stride=(2, 2), bias=False)\n",
       "          (1): BatchNorm2d(2048, eps=1e-05, momentum=0.1, affine=True, track_running_stats=True)\n",
       "        )\n",
       "      )\n",
       "      (1): Bottleneck(\n",
       "        (conv1): Conv2d(2048, 512, kernel_size=(1, 1), stride=(1, 1), bias=False)\n",
       "        (bn1): BatchNorm2d(512, eps=1e-05, momentum=0.1, affine=True, track_running_stats=True)\n",
       "        (conv2): Conv2d(512, 512, kernel_size=(3, 3), stride=(1, 1), padding=(1, 1), bias=False)\n",
       "        (bn2): BatchNorm2d(512, eps=1e-05, momentum=0.1, affine=True, track_running_stats=True)\n",
       "        (conv3): Conv2d(512, 2048, kernel_size=(1, 1), stride=(1, 1), bias=False)\n",
       "        (bn3): BatchNorm2d(2048, eps=1e-05, momentum=0.1, affine=True, track_running_stats=True)\n",
       "        (relu): ReLU(inplace=True)\n",
       "      )\n",
       "      (2): Bottleneck(\n",
       "        (conv1): Conv2d(2048, 512, kernel_size=(1, 1), stride=(1, 1), bias=False)\n",
       "        (bn1): BatchNorm2d(512, eps=1e-05, momentum=0.1, affine=True, track_running_stats=True)\n",
       "        (conv2): Conv2d(512, 512, kernel_size=(3, 3), stride=(1, 1), padding=(1, 1), bias=False)\n",
       "        (bn2): BatchNorm2d(512, eps=1e-05, momentum=0.1, affine=True, track_running_stats=True)\n",
       "        (conv3): Conv2d(512, 2048, kernel_size=(1, 1), stride=(1, 1), bias=False)\n",
       "        (bn3): BatchNorm2d(2048, eps=1e-05, momentum=0.1, affine=True, track_running_stats=True)\n",
       "        (relu): ReLU(inplace=True)\n",
       "      )\n",
       "    )\n",
       "    (deconv_layers): Sequential(\n",
       "      (0): ConvTranspose2d(2048, 256, kernel_size=(4, 4), stride=(2, 2), padding=(1, 1), bias=False)\n",
       "      (1): BatchNorm2d(256, eps=1e-05, momentum=0.1, affine=True, track_running_stats=True)\n",
       "      (2): ReLU(inplace=True)\n",
       "      (3): ConvTranspose2d(256, 256, kernel_size=(4, 4), stride=(2, 2), padding=(1, 1), bias=False)\n",
       "      (4): BatchNorm2d(256, eps=1e-05, momentum=0.1, affine=True, track_running_stats=True)\n",
       "      (5): ReLU(inplace=True)\n",
       "      (6): ConvTranspose2d(256, 256, kernel_size=(4, 4), stride=(2, 2), padding=(1, 1), bias=False)\n",
       "      (7): BatchNorm2d(256, eps=1e-05, momentum=0.1, affine=True, track_running_stats=True)\n",
       "      (8): ReLU(inplace=True)\n",
       "    )\n",
       "    (final_layer): Conv2d(256, 15, kernel_size=(1, 1), stride=(1, 1))\n",
       "  )\n",
       "  (pose_net): PoseRegressionNet(\n",
       "    (project_layer): ProjectLayer()\n",
       "    (v2v_net): V2VNet(\n",
       "      (front_layers): Sequential(\n",
       "        (0): Basic3DBlock(\n",
       "          (block): Sequential(\n",
       "            (0): Conv3d(15, 16, kernel_size=(7, 7, 7), stride=(1, 1, 1), padding=(3, 3, 3))\n",
       "            (1): BatchNorm3d(16, eps=1e-05, momentum=0.1, affine=True, track_running_stats=True)\n",
       "            (2): ReLU(inplace=True)\n",
       "          )\n",
       "        )\n",
       "        (1): Res3DBlock(\n",
       "          (res_branch): Sequential(\n",
       "            (0): Conv3d(16, 32, kernel_size=(3, 3, 3), stride=(1, 1, 1), padding=(1, 1, 1))\n",
       "            (1): BatchNorm3d(32, eps=1e-05, momentum=0.1, affine=True, track_running_stats=True)\n",
       "            (2): ReLU(inplace=True)\n",
       "            (3): Conv3d(32, 32, kernel_size=(3, 3, 3), stride=(1, 1, 1), padding=(1, 1, 1))\n",
       "            (4): BatchNorm3d(32, eps=1e-05, momentum=0.1, affine=True, track_running_stats=True)\n",
       "          )\n",
       "          (skip_con): Sequential(\n",
       "            (0): Conv3d(16, 32, kernel_size=(1, 1, 1), stride=(1, 1, 1))\n",
       "            (1): BatchNorm3d(32, eps=1e-05, momentum=0.1, affine=True, track_running_stats=True)\n",
       "          )\n",
       "        )\n",
       "      )\n",
       "      (encoder_decoder): EncoderDecorder(\n",
       "        (encoder_pool1): Pool3DBlock()\n",
       "        (encoder_res1): Res3DBlock(\n",
       "          (res_branch): Sequential(\n",
       "            (0): Conv3d(32, 64, kernel_size=(3, 3, 3), stride=(1, 1, 1), padding=(1, 1, 1))\n",
       "            (1): BatchNorm3d(64, eps=1e-05, momentum=0.1, affine=True, track_running_stats=True)\n",
       "            (2): ReLU(inplace=True)\n",
       "            (3): Conv3d(64, 64, kernel_size=(3, 3, 3), stride=(1, 1, 1), padding=(1, 1, 1))\n",
       "            (4): BatchNorm3d(64, eps=1e-05, momentum=0.1, affine=True, track_running_stats=True)\n",
       "          )\n",
       "          (skip_con): Sequential(\n",
       "            (0): Conv3d(32, 64, kernel_size=(1, 1, 1), stride=(1, 1, 1))\n",
       "            (1): BatchNorm3d(64, eps=1e-05, momentum=0.1, affine=True, track_running_stats=True)\n",
       "          )\n",
       "        )\n",
       "        (encoder_pool2): Pool3DBlock()\n",
       "        (encoder_res2): Res3DBlock(\n",
       "          (res_branch): Sequential(\n",
       "            (0): Conv3d(64, 128, kernel_size=(3, 3, 3), stride=(1, 1, 1), padding=(1, 1, 1))\n",
       "            (1): BatchNorm3d(128, eps=1e-05, momentum=0.1, affine=True, track_running_stats=True)\n",
       "            (2): ReLU(inplace=True)\n",
       "            (3): Conv3d(128, 128, kernel_size=(3, 3, 3), stride=(1, 1, 1), padding=(1, 1, 1))\n",
       "            (4): BatchNorm3d(128, eps=1e-05, momentum=0.1, affine=True, track_running_stats=True)\n",
       "          )\n",
       "          (skip_con): Sequential(\n",
       "            (0): Conv3d(64, 128, kernel_size=(1, 1, 1), stride=(1, 1, 1))\n",
       "            (1): BatchNorm3d(128, eps=1e-05, momentum=0.1, affine=True, track_running_stats=True)\n",
       "          )\n",
       "        )\n",
       "        (mid_res): Res3DBlock(\n",
       "          (res_branch): Sequential(\n",
       "            (0): Conv3d(128, 128, kernel_size=(3, 3, 3), stride=(1, 1, 1), padding=(1, 1, 1))\n",
       "            (1): BatchNorm3d(128, eps=1e-05, momentum=0.1, affine=True, track_running_stats=True)\n",
       "            (2): ReLU(inplace=True)\n",
       "            (3): Conv3d(128, 128, kernel_size=(3, 3, 3), stride=(1, 1, 1), padding=(1, 1, 1))\n",
       "            (4): BatchNorm3d(128, eps=1e-05, momentum=0.1, affine=True, track_running_stats=True)\n",
       "          )\n",
       "          (skip_con): Sequential()\n",
       "        )\n",
       "        (decoder_res2): Res3DBlock(\n",
       "          (res_branch): Sequential(\n",
       "            (0): Conv3d(128, 128, kernel_size=(3, 3, 3), stride=(1, 1, 1), padding=(1, 1, 1))\n",
       "            (1): BatchNorm3d(128, eps=1e-05, momentum=0.1, affine=True, track_running_stats=True)\n",
       "            (2): ReLU(inplace=True)\n",
       "            (3): Conv3d(128, 128, kernel_size=(3, 3, 3), stride=(1, 1, 1), padding=(1, 1, 1))\n",
       "            (4): BatchNorm3d(128, eps=1e-05, momentum=0.1, affine=True, track_running_stats=True)\n",
       "          )\n",
       "          (skip_con): Sequential()\n",
       "        )\n",
       "        (decoder_upsample2): Upsample3DBlock(\n",
       "          (block): Sequential(\n",
       "            (0): ConvTranspose3d(128, 64, kernel_size=(2, 2, 2), stride=(2, 2, 2))\n",
       "            (1): BatchNorm3d(64, eps=1e-05, momentum=0.1, affine=True, track_running_stats=True)\n",
       "            (2): ReLU(inplace=True)\n",
       "          )\n",
       "        )\n",
       "        (decoder_res1): Res3DBlock(\n",
       "          (res_branch): Sequential(\n",
       "            (0): Conv3d(64, 64, kernel_size=(3, 3, 3), stride=(1, 1, 1), padding=(1, 1, 1))\n",
       "            (1): BatchNorm3d(64, eps=1e-05, momentum=0.1, affine=True, track_running_stats=True)\n",
       "            (2): ReLU(inplace=True)\n",
       "            (3): Conv3d(64, 64, kernel_size=(3, 3, 3), stride=(1, 1, 1), padding=(1, 1, 1))\n",
       "            (4): BatchNorm3d(64, eps=1e-05, momentum=0.1, affine=True, track_running_stats=True)\n",
       "          )\n",
       "          (skip_con): Sequential()\n",
       "        )\n",
       "        (decoder_upsample1): Upsample3DBlock(\n",
       "          (block): Sequential(\n",
       "            (0): ConvTranspose3d(64, 32, kernel_size=(2, 2, 2), stride=(2, 2, 2))\n",
       "            (1): BatchNorm3d(32, eps=1e-05, momentum=0.1, affine=True, track_running_stats=True)\n",
       "            (2): ReLU(inplace=True)\n",
       "          )\n",
       "        )\n",
       "        (skip_res1): Res3DBlock(\n",
       "          (res_branch): Sequential(\n",
       "            (0): Conv3d(32, 32, kernel_size=(3, 3, 3), stride=(1, 1, 1), padding=(1, 1, 1))\n",
       "            (1): BatchNorm3d(32, eps=1e-05, momentum=0.1, affine=True, track_running_stats=True)\n",
       "            (2): ReLU(inplace=True)\n",
       "            (3): Conv3d(32, 32, kernel_size=(3, 3, 3), stride=(1, 1, 1), padding=(1, 1, 1))\n",
       "            (4): BatchNorm3d(32, eps=1e-05, momentum=0.1, affine=True, track_running_stats=True)\n",
       "          )\n",
       "          (skip_con): Sequential()\n",
       "        )\n",
       "        (skip_res2): Res3DBlock(\n",
       "          (res_branch): Sequential(\n",
       "            (0): Conv3d(64, 64, kernel_size=(3, 3, 3), stride=(1, 1, 1), padding=(1, 1, 1))\n",
       "            (1): BatchNorm3d(64, eps=1e-05, momentum=0.1, affine=True, track_running_stats=True)\n",
       "            (2): ReLU(inplace=True)\n",
       "            (3): Conv3d(64, 64, kernel_size=(3, 3, 3), stride=(1, 1, 1), padding=(1, 1, 1))\n",
       "            (4): BatchNorm3d(64, eps=1e-05, momentum=0.1, affine=True, track_running_stats=True)\n",
       "          )\n",
       "          (skip_con): Sequential()\n",
       "        )\n",
       "      )\n",
       "      (output_layer): Conv3d(32, 15, kernel_size=(1, 1, 1), stride=(1, 1, 1))\n",
       "    )\n",
       "    (soft_argmax_layer): SoftArgmaxLayer()\n",
       "  )\n",
       "  (root_net): CuboidProposalNetSoft(\n",
       "    (project_layer): ProjectLayer()\n",
       "    (v2v_net): V2VNet(\n",
       "      (front_layers): Sequential(\n",
       "        (0): Basic3DBlock(\n",
       "          (block): Sequential(\n",
       "            (0): Conv3d(1, 16, kernel_size=(7, 7, 7), stride=(1, 1, 1), padding=(3, 3, 3))\n",
       "            (1): BatchNorm3d(16, eps=1e-05, momentum=0.1, affine=True, track_running_stats=True)\n",
       "            (2): ReLU(inplace=True)\n",
       "          )\n",
       "        )\n",
       "        (1): Res3DBlock(\n",
       "          (res_branch): Sequential(\n",
       "            (0): Conv3d(16, 32, kernel_size=(3, 3, 3), stride=(1, 1, 1), padding=(1, 1, 1))\n",
       "            (1): BatchNorm3d(32, eps=1e-05, momentum=0.1, affine=True, track_running_stats=True)\n",
       "            (2): ReLU(inplace=True)\n",
       "            (3): Conv3d(32, 32, kernel_size=(3, 3, 3), stride=(1, 1, 1), padding=(1, 1, 1))\n",
       "            (4): BatchNorm3d(32, eps=1e-05, momentum=0.1, affine=True, track_running_stats=True)\n",
       "          )\n",
       "          (skip_con): Sequential(\n",
       "            (0): Conv3d(16, 32, kernel_size=(1, 1, 1), stride=(1, 1, 1))\n",
       "            (1): BatchNorm3d(32, eps=1e-05, momentum=0.1, affine=True, track_running_stats=True)\n",
       "          )\n",
       "        )\n",
       "      )\n",
       "      (encoder_decoder): EncoderDecorder(\n",
       "        (encoder_pool1): Pool3DBlock()\n",
       "        (encoder_res1): Res3DBlock(\n",
       "          (res_branch): Sequential(\n",
       "            (0): Conv3d(32, 64, kernel_size=(3, 3, 3), stride=(1, 1, 1), padding=(1, 1, 1))\n",
       "            (1): BatchNorm3d(64, eps=1e-05, momentum=0.1, affine=True, track_running_stats=True)\n",
       "            (2): ReLU(inplace=True)\n",
       "            (3): Conv3d(64, 64, kernel_size=(3, 3, 3), stride=(1, 1, 1), padding=(1, 1, 1))\n",
       "            (4): BatchNorm3d(64, eps=1e-05, momentum=0.1, affine=True, track_running_stats=True)\n",
       "          )\n",
       "          (skip_con): Sequential(\n",
       "            (0): Conv3d(32, 64, kernel_size=(1, 1, 1), stride=(1, 1, 1))\n",
       "            (1): BatchNorm3d(64, eps=1e-05, momentum=0.1, affine=True, track_running_stats=True)\n",
       "          )\n",
       "        )\n",
       "        (encoder_pool2): Pool3DBlock()\n",
       "        (encoder_res2): Res3DBlock(\n",
       "          (res_branch): Sequential(\n",
       "            (0): Conv3d(64, 128, kernel_size=(3, 3, 3), stride=(1, 1, 1), padding=(1, 1, 1))\n",
       "            (1): BatchNorm3d(128, eps=1e-05, momentum=0.1, affine=True, track_running_stats=True)\n",
       "            (2): ReLU(inplace=True)\n",
       "            (3): Conv3d(128, 128, kernel_size=(3, 3, 3), stride=(1, 1, 1), padding=(1, 1, 1))\n",
       "            (4): BatchNorm3d(128, eps=1e-05, momentum=0.1, affine=True, track_running_stats=True)\n",
       "          )\n",
       "          (skip_con): Sequential(\n",
       "            (0): Conv3d(64, 128, kernel_size=(1, 1, 1), stride=(1, 1, 1))\n",
       "            (1): BatchNorm3d(128, eps=1e-05, momentum=0.1, affine=True, track_running_stats=True)\n",
       "          )\n",
       "        )\n",
       "        (mid_res): Res3DBlock(\n",
       "          (res_branch): Sequential(\n",
       "            (0): Conv3d(128, 128, kernel_size=(3, 3, 3), stride=(1, 1, 1), padding=(1, 1, 1))\n",
       "            (1): BatchNorm3d(128, eps=1e-05, momentum=0.1, affine=True, track_running_stats=True)\n",
       "            (2): ReLU(inplace=True)\n",
       "            (3): Conv3d(128, 128, kernel_size=(3, 3, 3), stride=(1, 1, 1), padding=(1, 1, 1))\n",
       "            (4): BatchNorm3d(128, eps=1e-05, momentum=0.1, affine=True, track_running_stats=True)\n",
       "          )\n",
       "          (skip_con): Sequential()\n",
       "        )\n",
       "        (decoder_res2): Res3DBlock(\n",
       "          (res_branch): Sequential(\n",
       "            (0): Conv3d(128, 128, kernel_size=(3, 3, 3), stride=(1, 1, 1), padding=(1, 1, 1))\n",
       "            (1): BatchNorm3d(128, eps=1e-05, momentum=0.1, affine=True, track_running_stats=True)\n",
       "            (2): ReLU(inplace=True)\n",
       "            (3): Conv3d(128, 128, kernel_size=(3, 3, 3), stride=(1, 1, 1), padding=(1, 1, 1))\n",
       "            (4): BatchNorm3d(128, eps=1e-05, momentum=0.1, affine=True, track_running_stats=True)\n",
       "          )\n",
       "          (skip_con): Sequential()\n",
       "        )\n",
       "        (decoder_upsample2): Upsample3DBlock(\n",
       "          (block): Sequential(\n",
       "            (0): ConvTranspose3d(128, 64, kernel_size=(2, 2, 2), stride=(2, 2, 2))\n",
       "            (1): BatchNorm3d(64, eps=1e-05, momentum=0.1, affine=True, track_running_stats=True)\n",
       "            (2): ReLU(inplace=True)\n",
       "          )\n",
       "        )\n",
       "        (decoder_res1): Res3DBlock(\n",
       "          (res_branch): Sequential(\n",
       "            (0): Conv3d(64, 64, kernel_size=(3, 3, 3), stride=(1, 1, 1), padding=(1, 1, 1))\n",
       "            (1): BatchNorm3d(64, eps=1e-05, momentum=0.1, affine=True, track_running_stats=True)\n",
       "            (2): ReLU(inplace=True)\n",
       "            (3): Conv3d(64, 64, kernel_size=(3, 3, 3), stride=(1, 1, 1), padding=(1, 1, 1))\n",
       "            (4): BatchNorm3d(64, eps=1e-05, momentum=0.1, affine=True, track_running_stats=True)\n",
       "          )\n",
       "          (skip_con): Sequential()\n",
       "        )\n",
       "        (decoder_upsample1): Upsample3DBlock(\n",
       "          (block): Sequential(\n",
       "            (0): ConvTranspose3d(64, 32, kernel_size=(2, 2, 2), stride=(2, 2, 2))\n",
       "            (1): BatchNorm3d(32, eps=1e-05, momentum=0.1, affine=True, track_running_stats=True)\n",
       "            (2): ReLU(inplace=True)\n",
       "          )\n",
       "        )\n",
       "        (skip_res1): Res3DBlock(\n",
       "          (res_branch): Sequential(\n",
       "            (0): Conv3d(32, 32, kernel_size=(3, 3, 3), stride=(1, 1, 1), padding=(1, 1, 1))\n",
       "            (1): BatchNorm3d(32, eps=1e-05, momentum=0.1, affine=True, track_running_stats=True)\n",
       "            (2): ReLU(inplace=True)\n",
       "            (3): Conv3d(32, 32, kernel_size=(3, 3, 3), stride=(1, 1, 1), padding=(1, 1, 1))\n",
       "            (4): BatchNorm3d(32, eps=1e-05, momentum=0.1, affine=True, track_running_stats=True)\n",
       "          )\n",
       "          (skip_con): Sequential()\n",
       "        )\n",
       "        (skip_res2): Res3DBlock(\n",
       "          (res_branch): Sequential(\n",
       "            (0): Conv3d(64, 64, kernel_size=(3, 3, 3), stride=(1, 1, 1), padding=(1, 1, 1))\n",
       "            (1): BatchNorm3d(64, eps=1e-05, momentum=0.1, affine=True, track_running_stats=True)\n",
       "            (2): ReLU(inplace=True)\n",
       "            (3): Conv3d(64, 64, kernel_size=(3, 3, 3), stride=(1, 1, 1), padding=(1, 1, 1))\n",
       "            (4): BatchNorm3d(64, eps=1e-05, momentum=0.1, affine=True, track_running_stats=True)\n",
       "          )\n",
       "          (skip_con): Sequential()\n",
       "        )\n",
       "      )\n",
       "      (output_layer): Conv3d(32, 1, kernel_size=(1, 1, 1), stride=(1, 1, 1))\n",
       "    )\n",
       "    (proposal_layer): ProposalLayerSoft()\n",
       "  )\n",
       ")"
      ]
     },
     "execution_count": 9,
     "metadata": {},
     "output_type": "execute_result"
    }
   ],
   "source": [
    "from SelfPose3d.lib.models.multi_person_posenet_ssv import get_multi_person_pose_net\n",
    "\n",
    "with torch.no_grad():\n",
    "    model = get_multi_person_pose_net(cfg=config, is_train=True)\n",
    "\n",
    "    model = model.to(device)\n",
    "    model.load_state_dict(torch.load(r\"/home/dojan/FOCUS-1/modules/SelfPose3d/models/POC_posenet.pth.tar\"), strict=False)\n",
    "\n",
    "model.eval()"
   ]
  },
  {
   "cell_type": "code",
   "execution_count": 10,
   "metadata": {},
   "outputs": [],
   "source": [
    "from SelfPose3d.lib.models.pose_resnet import get_pose_net\n",
    "\n",
    "backbone = get_pose_net(cfg=config, is_train=True)"
   ]
  },
  {
   "cell_type": "code",
   "execution_count": 11,
   "metadata": {},
   "outputs": [],
   "source": [
    "backbone = model.backbone.eval()"
   ]
  },
  {
   "cell_type": "code",
   "execution_count": 12,
   "metadata": {},
   "outputs": [
    {
     "name": "stdout",
     "output_type": "stream",
     "text": [
      "Elapsed: 550.13ms\n"
     ]
    }
   ],
   "source": [
    "view = copy.deepcopy(original)\n",
    "with timer():\n",
    "    result = backbone(view)"
   ]
  },
  {
   "cell_type": "code",
   "execution_count": 13,
   "metadata": {},
   "outputs": [
    {
     "name": "stdout",
     "output_type": "stream",
     "text": [
      "Elapsed: 7.06ms\n"
     ]
    }
   ],
   "source": [
    "view = copy.deepcopy(original)\n",
    "with timer():\n",
    "    result = backbone(view)"
   ]
  },
  {
   "cell_type": "code",
   "execution_count": 14,
   "metadata": {},
   "outputs": [],
   "source": [
    "with open('heatmaps.pkl', 'rb') as f:\n",
    "    heatmaps = pickle.load(f)"
   ]
  },
  {
   "cell_type": "code",
   "execution_count": 15,
   "metadata": {},
   "outputs": [],
   "source": [
    "similarity = torch.nn.functional.cosine_similarity(result, heatmaps, dim=1)"
   ]
  },
  {
   "cell_type": "code",
   "execution_count": 16,
   "metadata": {},
   "outputs": [
    {
     "data": {
      "text/plain": [
       "tensor(1., device='cuda:0', grad_fn=<MeanBackward0>)"
      ]
     },
     "execution_count": 16,
     "metadata": {},
     "output_type": "execute_result"
    }
   ],
   "source": [
    "similarity.mean()"
   ]
  },
  {
   "cell_type": "markdown",
   "metadata": {},
   "source": [
    "# ONNX"
   ]
  },
  {
   "cell_type": "code",
   "execution_count": 17,
   "metadata": {},
   "outputs": [
    {
     "name": "stderr",
     "output_type": "stream",
     "text": [
      "/home/dojan/FOCUS-1/tools/../modules/SelfPose3d/lib/models/pose_resnet.py:205: TracerWarning: Converting a tensor to a Python boolean might cause the trace to be incorrect. We can't record the data flow of Python values, so this value will be treated as a constant in the future. This means that the trace might not generalize to other inputs!\n",
      "  if attn:\n"
     ]
    }
   ],
   "source": [
    "torch.onnx.export(\n",
    "    model=backbone,\n",
    "    args=(view,),   # 1, 3, 512, 960\n",
    "    f='backbone.onnx',\n",
    "    input_names=['input'],\n",
    "    output_names=['output'],\n",
    "    dynamic_axes={\n",
    "        'input': {0: 'batch', 2: 'height', 3: 'width'},\n",
    "        'output': {0: 'batch'}\n",
    "    },\n",
    "    opset_version=11,\n",
    ")"
   ]
  },
  {
   "cell_type": "code",
   "execution_count": 18,
   "metadata": {},
   "outputs": [],
   "source": [
    "import onnx"
   ]
  },
  {
   "cell_type": "code",
   "execution_count": 19,
   "metadata": {},
   "outputs": [],
   "source": [
    "backbone_onnx = onnx.load('backbone.onnx')"
   ]
  },
  {
   "cell_type": "code",
   "execution_count": 20,
   "metadata": {},
   "outputs": [],
   "source": [
    "onnx.checker.check_model(backbone_onnx, True)"
   ]
  },
  {
   "cell_type": "code",
   "execution_count": 21,
   "metadata": {},
   "outputs": [
    {
     "name": "stdout",
     "output_type": "stream",
     "text": [
      "graph torch_jit (\n",
      "  %input[FLOAT, batchx3xheightxwidth]\n",
      ") initializers (\n",
      "  %deconv_layers.0.weight[FLOAT, 2048x256x4x4]\n",
      "  %deconv_layers.1.weight[FLOAT, 256]\n",
      "  %deconv_layers.1.bias[FLOAT, 256]\n",
      "  %deconv_layers.1.running_mean[FLOAT, 256]\n",
      "  %deconv_layers.1.running_var[FLOAT, 256]\n",
      "  %deconv_layers.3.weight[FLOAT, 256x256x4x4]\n",
      "  %deconv_layers.4.weight[FLOAT, 256]\n",
      "  %deconv_layers.4.bias[FLOAT, 256]\n",
      "  %deconv_layers.4.running_mean[FLOAT, 256]\n",
      "  %deconv_layers.4.running_var[FLOAT, 256]\n",
      "  %deconv_layers.6.weight[FLOAT, 256x256x4x4]\n",
      "  %deconv_layers.7.weight[FLOAT, 256]\n",
      "  %deconv_layers.7.bias[FLOAT, 256]\n",
      "  %deconv_layers.7.running_mean[FLOAT, 256]\n",
      "  %deconv_layers.7.running_var[FLOAT, 256]\n",
      "  %final_layer.weight[FLOAT, 15x256x1x1]\n",
      "  %final_layer.bias[FLOAT, 15]\n",
      "  %onnx::Conv_523[FLOAT, 64x3x7x7]\n",
      "  %onnx::Conv_524[FLOAT, 64]\n",
      "  %onnx::Conv_526[FLOAT, 64x64x1x1]\n",
      "  %onnx::Conv_527[FLOAT, 64]\n",
      "  %onnx::Conv_529[FLOAT, 64x64x3x3]\n",
      "  %onnx::Conv_530[FLOAT, 64]\n",
      "  %onnx::Conv_532[FLOAT, 256x64x1x1]\n",
      "  %onnx::Conv_533[FLOAT, 256]\n",
      "  %onnx::Conv_535[FLOAT, 256x64x1x1]\n",
      "  %onnx::Conv_536[FLOAT, 256]\n",
      "  %onnx::Conv_538[FLOAT, 64x256x1x1]\n",
      "  %onnx::Conv_539[FLOAT, 64]\n",
      "  %onnx::Conv_541[FLOAT, 64x64x3x3]\n",
      "  %onnx::Conv_542[FLOAT, 64]\n",
      "  %onnx::Conv_544[FLOAT, 256x64x1x1]\n",
      "  %onnx::Conv_545[FLOAT, 256]\n",
      "  %onnx::Conv_547[FLOAT, 64x256x1x1]\n",
      "  %onnx::Conv_548[FLOAT, 64]\n",
      "  %onnx::Conv_550[FLOAT, 64x64x3x3]\n",
      "  %onnx::Conv_551[FLOAT, 64]\n",
      "  %onnx::Conv_553[FLOAT, 256x64x1x1]\n",
      "  %onnx::Conv_554[FLOAT, 256]\n",
      "  %onnx::Conv_556[FLOAT, 128x256x1x1]\n",
      "  %onnx::Conv_557[FLOAT, 128]\n",
      "  %onnx::Conv_559[FLOAT, 128x128x3x3]\n",
      "  %onnx::Conv_560[FLOAT, 128]\n",
      "  %onnx::Conv_562[FLOAT, 512x128x1x1]\n",
      "  %onnx::Conv_563[FLOAT, 512]\n",
      "  %onnx::Conv_565[FLOAT, 512x256x1x1]\n",
      "  %onnx::Conv_566[FLOAT, 512]\n",
      "  %onnx::Conv_568[FLOAT, 128x512x1x1]\n",
      "  %onnx::Conv_569[FLOAT, 128]\n",
      "  %onnx::Conv_571[FLOAT, 128x128x3x3]\n",
      "  %onnx::Conv_572[FLOAT, 128]\n",
      "  %onnx::Conv_574[FLOAT, 512x128x1x1]\n",
      "  %onnx::Conv_575[FLOAT, 512]\n",
      "  %onnx::Conv_577[FLOAT, 128x512x1x1]\n",
      "  %onnx::Conv_578[FLOAT, 128]\n",
      "  %onnx::Conv_580[FLOAT, 128x128x3x3]\n",
      "  %onnx::Conv_581[FLOAT, 128]\n",
      "  %onnx::Conv_583[FLOAT, 512x128x1x1]\n",
      "  %onnx::Conv_584[FLOAT, 512]\n",
      "  %onnx::Conv_586[FLOAT, 128x512x1x1]\n",
      "  %onnx::Conv_587[FLOAT, 128]\n",
      "  %onnx::Conv_589[FLOAT, 128x128x3x3]\n",
      "  %onnx::Conv_590[FLOAT, 128]\n",
      "  %onnx::Conv_592[FLOAT, 512x128x1x1]\n",
      "  %onnx::Conv_593[FLOAT, 512]\n",
      "  %onnx::Conv_595[FLOAT, 256x512x1x1]\n",
      "  %onnx::Conv_596[FLOAT, 256]\n",
      "  %onnx::Conv_598[FLOAT, 256x256x3x3]\n",
      "  %onnx::Conv_599[FLOAT, 256]\n",
      "  %onnx::Conv_601[FLOAT, 1024x256x1x1]\n",
      "  %onnx::Conv_602[FLOAT, 1024]\n",
      "  %onnx::Conv_604[FLOAT, 1024x512x1x1]\n",
      "  %onnx::Conv_605[FLOAT, 1024]\n",
      "  %onnx::Conv_607[FLOAT, 256x1024x1x1]\n",
      "  %onnx::Conv_608[FLOAT, 256]\n",
      "  %onnx::Conv_610[FLOAT, 256x256x3x3]\n",
      "  %onnx::Conv_611[FLOAT, 256]\n",
      "  %onnx::Conv_613[FLOAT, 1024x256x1x1]\n",
      "  %onnx::Conv_614[FLOAT, 1024]\n",
      "  %onnx::Conv_616[FLOAT, 256x1024x1x1]\n",
      "  %onnx::Conv_617[FLOAT, 256]\n",
      "  %onnx::Conv_619[FLOAT, 256x256x3x3]\n",
      "  %onnx::Conv_620[FLOAT, 256]\n",
      "  %onnx::Conv_622[FLOAT, 1024x256x1x1]\n",
      "  %onnx::Conv_623[FLOAT, 1024]\n",
      "  %onnx::Conv_625[FLOAT, 256x1024x1x1]\n",
      "  %onnx::Conv_626[FLOAT, 256]\n",
      "  %onnx::Conv_628[FLOAT, 256x256x3x3]\n",
      "  %onnx::Conv_629[FLOAT, 256]\n",
      "  %onnx::Conv_631[FLOAT, 1024x256x1x1]\n",
      "  %onnx::Conv_632[FLOAT, 1024]\n",
      "  %onnx::Conv_634[FLOAT, 256x1024x1x1]\n",
      "  %onnx::Conv_635[FLOAT, 256]\n",
      "  %onnx::Conv_637[FLOAT, 256x256x3x3]\n",
      "  %onnx::Conv_638[FLOAT, 256]\n",
      "  %onnx::Conv_640[FLOAT, 1024x256x1x1]\n",
      "  %onnx::Conv_641[FLOAT, 1024]\n",
      "  %onnx::Conv_643[FLOAT, 256x1024x1x1]\n",
      "  %onnx::Conv_644[FLOAT, 256]\n",
      "  %onnx::Conv_646[FLOAT, 256x256x3x3]\n",
      "  %onnx::Conv_647[FLOAT, 256]\n",
      "  %onnx::Conv_649[FLOAT, 1024x256x1x1]\n",
      "  %onnx::Conv_650[FLOAT, 1024]\n",
      "  %onnx::Conv_652[FLOAT, 512x1024x1x1]\n",
      "  %onnx::Conv_653[FLOAT, 512]\n",
      "  %onnx::Conv_655[FLOAT, 512x512x3x3]\n",
      "  %onnx::Conv_656[FLOAT, 512]\n",
      "  %onnx::Conv_658[FLOAT, 2048x512x1x1]\n",
      "  %onnx::Conv_659[FLOAT, 2048]\n",
      "  %onnx::Conv_661[FLOAT, 2048x1024x1x1]\n",
      "  %onnx::Conv_662[FLOAT, 2048]\n",
      "  %onnx::Conv_664[FLOAT, 512x2048x1x1]\n",
      "  %onnx::Conv_665[FLOAT, 512]\n",
      "  %onnx::Conv_667[FLOAT, 512x512x3x3]\n",
      "  %onnx::Conv_668[FLOAT, 512]\n",
      "  %onnx::Conv_670[FLOAT, 2048x512x1x1]\n",
      "  %onnx::Conv_671[FLOAT, 2048]\n",
      "  %onnx::Conv_673[FLOAT, 512x2048x1x1]\n",
      "  %onnx::Conv_674[FLOAT, 512]\n",
      "  %onnx::Conv_676[FLOAT, 512x512x3x3]\n",
      "  %onnx::Conv_677[FLOAT, 512]\n",
      "  %onnx::Conv_679[FLOAT, 2048x512x1x1]\n",
      "  %onnx::Conv_680[FLOAT, 2048]\n",
      ") {\n",
      "  %/conv1/Conv_output_0 = Conv[dilations = [1, 1], group = 1, kernel_shape = [7, 7], pads = [3, 3, 3, 3], strides = [2, 2]](%input, %onnx::Conv_523, %onnx::Conv_524)\n",
      "  %/relu/Relu_output_0 = Relu(%/conv1/Conv_output_0)\n",
      "  %/maxpool/MaxPool_output_0 = MaxPool[ceil_mode = 0, kernel_shape = [3, 3], pads = [1, 1, 1, 1], strides = [2, 2]](%/relu/Relu_output_0)\n",
      "  %/layer1/layer1.0/conv1/Conv_output_0 = Conv[dilations = [1, 1], group = 1, kernel_shape = [1, 1], pads = [0, 0, 0, 0], strides = [1, 1]](%/maxpool/MaxPool_output_0, %onnx::Conv_526, %onnx::Conv_527)\n",
      "  %/layer1/layer1.0/relu/Relu_output_0 = Relu(%/layer1/layer1.0/conv1/Conv_output_0)\n",
      "  %/layer1/layer1.0/conv2/Conv_output_0 = Conv[dilations = [1, 1], group = 1, kernel_shape = [3, 3], pads = [1, 1, 1, 1], strides = [1, 1]](%/layer1/layer1.0/relu/Relu_output_0, %onnx::Conv_529, %onnx::Conv_530)\n",
      "  %/layer1/layer1.0/relu_1/Relu_output_0 = Relu(%/layer1/layer1.0/conv2/Conv_output_0)\n",
      "  %/layer1/layer1.0/conv3/Conv_output_0 = Conv[dilations = [1, 1], group = 1, kernel_shape = [1, 1], pads = [0, 0, 0, 0], strides = [1, 1]](%/layer1/layer1.0/relu_1/Relu_output_0, %onnx::Conv_532, %onnx::Conv_533)\n",
      "  %/layer1/layer1.0/downsample/downsample.0/Conv_output_0 = Conv[dilations = [1, 1], group = 1, kernel_shape = [1, 1], pads = [0, 0, 0, 0], strides = [1, 1]](%/maxpool/MaxPool_output_0, %onnx::Conv_535, %onnx::Conv_536)\n",
      "  %/layer1/layer1.0/Add_output_0 = Add(%/layer1/layer1.0/conv3/Conv_output_0, %/layer1/layer1.0/downsample/downsample.0/Conv_output_0)\n",
      "  %/layer1/layer1.0/relu_2/Relu_output_0 = Relu(%/layer1/layer1.0/Add_output_0)\n",
      "  %/layer1/layer1.1/conv1/Conv_output_0 = Conv[dilations = [1, 1], group = 1, kernel_shape = [1, 1], pads = [0, 0, 0, 0], strides = [1, 1]](%/layer1/layer1.0/relu_2/Relu_output_0, %onnx::Conv_538, %onnx::Conv_539)\n",
      "  %/layer1/layer1.1/relu/Relu_output_0 = Relu(%/layer1/layer1.1/conv1/Conv_output_0)\n",
      "  %/layer1/layer1.1/conv2/Conv_output_0 = Conv[dilations = [1, 1], group = 1, kernel_shape = [3, 3], pads = [1, 1, 1, 1], strides = [1, 1]](%/layer1/layer1.1/relu/Relu_output_0, %onnx::Conv_541, %onnx::Conv_542)\n",
      "  %/layer1/layer1.1/relu_1/Relu_output_0 = Relu(%/layer1/layer1.1/conv2/Conv_output_0)\n",
      "  %/layer1/layer1.1/conv3/Conv_output_0 = Conv[dilations = [1, 1], group = 1, kernel_shape = [1, 1], pads = [0, 0, 0, 0], strides = [1, 1]](%/layer1/layer1.1/relu_1/Relu_output_0, %onnx::Conv_544, %onnx::Conv_545)\n",
      "  %/layer1/layer1.1/Add_output_0 = Add(%/layer1/layer1.1/conv3/Conv_output_0, %/layer1/layer1.0/relu_2/Relu_output_0)\n",
      "  %/layer1/layer1.1/relu_2/Relu_output_0 = Relu(%/layer1/layer1.1/Add_output_0)\n",
      "  %/layer1/layer1.2/conv1/Conv_output_0 = Conv[dilations = [1, 1], group = 1, kernel_shape = [1, 1], pads = [0, 0, 0, 0], strides = [1, 1]](%/layer1/layer1.1/relu_2/Relu_output_0, %onnx::Conv_547, %onnx::Conv_548)\n",
      "  %/layer1/layer1.2/relu/Relu_output_0 = Relu(%/layer1/layer1.2/conv1/Conv_output_0)\n",
      "  %/layer1/layer1.2/conv2/Conv_output_0 = Conv[dilations = [1, 1], group = 1, kernel_shape = [3, 3], pads = [1, 1, 1, 1], strides = [1, 1]](%/layer1/layer1.2/relu/Relu_output_0, %onnx::Conv_550, %onnx::Conv_551)\n",
      "  %/layer1/layer1.2/relu_1/Relu_output_0 = Relu(%/layer1/layer1.2/conv2/Conv_output_0)\n",
      "  %/layer1/layer1.2/conv3/Conv_output_0 = Conv[dilations = [1, 1], group = 1, kernel_shape = [1, 1], pads = [0, 0, 0, 0], strides = [1, 1]](%/layer1/layer1.2/relu_1/Relu_output_0, %onnx::Conv_553, %onnx::Conv_554)\n",
      "  %/layer1/layer1.2/Add_output_0 = Add(%/layer1/layer1.2/conv3/Conv_output_0, %/layer1/layer1.1/relu_2/Relu_output_0)\n",
      "  %/layer1/layer1.2/relu_2/Relu_output_0 = Relu(%/layer1/layer1.2/Add_output_0)\n",
      "  %/layer2/layer2.0/conv1/Conv_output_0 = Conv[dilations = [1, 1], group = 1, kernel_shape = [1, 1], pads = [0, 0, 0, 0], strides = [1, 1]](%/layer1/layer1.2/relu_2/Relu_output_0, %onnx::Conv_556, %onnx::Conv_557)\n",
      "  %/layer2/layer2.0/relu/Relu_output_0 = Relu(%/layer2/layer2.0/conv1/Conv_output_0)\n",
      "  %/layer2/layer2.0/conv2/Conv_output_0 = Conv[dilations = [1, 1], group = 1, kernel_shape = [3, 3], pads = [1, 1, 1, 1], strides = [2, 2]](%/layer2/layer2.0/relu/Relu_output_0, %onnx::Conv_559, %onnx::Conv_560)\n",
      "  %/layer2/layer2.0/relu_1/Relu_output_0 = Relu(%/layer2/layer2.0/conv2/Conv_output_0)\n",
      "  %/layer2/layer2.0/conv3/Conv_output_0 = Conv[dilations = [1, 1], group = 1, kernel_shape = [1, 1], pads = [0, 0, 0, 0], strides = [1, 1]](%/layer2/layer2.0/relu_1/Relu_output_0, %onnx::Conv_562, %onnx::Conv_563)\n",
      "  %/layer2/layer2.0/downsample/downsample.0/Conv_output_0 = Conv[dilations = [1, 1], group = 1, kernel_shape = [1, 1], pads = [0, 0, 0, 0], strides = [2, 2]](%/layer1/layer1.2/relu_2/Relu_output_0, %onnx::Conv_565, %onnx::Conv_566)\n",
      "  %/layer2/layer2.0/Add_output_0 = Add(%/layer2/layer2.0/conv3/Conv_output_0, %/layer2/layer2.0/downsample/downsample.0/Conv_output_0)\n",
      "  %/layer2/layer2.0/relu_2/Relu_output_0 = Relu(%/layer2/layer2.0/Add_output_0)\n",
      "  %/layer2/layer2.1/conv1/Conv_output_0 = Conv[dilations = [1, 1], group = 1, kernel_shape = [1, 1], pads = [0, 0, 0, 0], strides = [1, 1]](%/layer2/layer2.0/relu_2/Relu_output_0, %onnx::Conv_568, %onnx::Conv_569)\n",
      "  %/layer2/layer2.1/relu/Relu_output_0 = Relu(%/layer2/layer2.1/conv1/Conv_output_0)\n",
      "  %/layer2/layer2.1/conv2/Conv_output_0 = Conv[dilations = [1, 1], group = 1, kernel_shape = [3, 3], pads = [1, 1, 1, 1], strides = [1, 1]](%/layer2/layer2.1/relu/Relu_output_0, %onnx::Conv_571, %onnx::Conv_572)\n",
      "  %/layer2/layer2.1/relu_1/Relu_output_0 = Relu(%/layer2/layer2.1/conv2/Conv_output_0)\n",
      "  %/layer2/layer2.1/conv3/Conv_output_0 = Conv[dilations = [1, 1], group = 1, kernel_shape = [1, 1], pads = [0, 0, 0, 0], strides = [1, 1]](%/layer2/layer2.1/relu_1/Relu_output_0, %onnx::Conv_574, %onnx::Conv_575)\n",
      "  %/layer2/layer2.1/Add_output_0 = Add(%/layer2/layer2.1/conv3/Conv_output_0, %/layer2/layer2.0/relu_2/Relu_output_0)\n",
      "  %/layer2/layer2.1/relu_2/Relu_output_0 = Relu(%/layer2/layer2.1/Add_output_0)\n",
      "  %/layer2/layer2.2/conv1/Conv_output_0 = Conv[dilations = [1, 1], group = 1, kernel_shape = [1, 1], pads = [0, 0, 0, 0], strides = [1, 1]](%/layer2/layer2.1/relu_2/Relu_output_0, %onnx::Conv_577, %onnx::Conv_578)\n",
      "  %/layer2/layer2.2/relu/Relu_output_0 = Relu(%/layer2/layer2.2/conv1/Conv_output_0)\n",
      "  %/layer2/layer2.2/conv2/Conv_output_0 = Conv[dilations = [1, 1], group = 1, kernel_shape = [3, 3], pads = [1, 1, 1, 1], strides = [1, 1]](%/layer2/layer2.2/relu/Relu_output_0, %onnx::Conv_580, %onnx::Conv_581)\n",
      "  %/layer2/layer2.2/relu_1/Relu_output_0 = Relu(%/layer2/layer2.2/conv2/Conv_output_0)\n",
      "  %/layer2/layer2.2/conv3/Conv_output_0 = Conv[dilations = [1, 1], group = 1, kernel_shape = [1, 1], pads = [0, 0, 0, 0], strides = [1, 1]](%/layer2/layer2.2/relu_1/Relu_output_0, %onnx::Conv_583, %onnx::Conv_584)\n",
      "  %/layer2/layer2.2/Add_output_0 = Add(%/layer2/layer2.2/conv3/Conv_output_0, %/layer2/layer2.1/relu_2/Relu_output_0)\n",
      "  %/layer2/layer2.2/relu_2/Relu_output_0 = Relu(%/layer2/layer2.2/Add_output_0)\n",
      "  %/layer2/layer2.3/conv1/Conv_output_0 = Conv[dilations = [1, 1], group = 1, kernel_shape = [1, 1], pads = [0, 0, 0, 0], strides = [1, 1]](%/layer2/layer2.2/relu_2/Relu_output_0, %onnx::Conv_586, %onnx::Conv_587)\n",
      "  %/layer2/layer2.3/relu/Relu_output_0 = Relu(%/layer2/layer2.3/conv1/Conv_output_0)\n",
      "  %/layer2/layer2.3/conv2/Conv_output_0 = Conv[dilations = [1, 1], group = 1, kernel_shape = [3, 3], pads = [1, 1, 1, 1], strides = [1, 1]](%/layer2/layer2.3/relu/Relu_output_0, %onnx::Conv_589, %onnx::Conv_590)\n",
      "  %/layer2/layer2.3/relu_1/Relu_output_0 = Relu(%/layer2/layer2.3/conv2/Conv_output_0)\n",
      "  %/layer2/layer2.3/conv3/Conv_output_0 = Conv[dilations = [1, 1], group = 1, kernel_shape = [1, 1], pads = [0, 0, 0, 0], strides = [1, 1]](%/layer2/layer2.3/relu_1/Relu_output_0, %onnx::Conv_592, %onnx::Conv_593)\n",
      "  %/layer2/layer2.3/Add_output_0 = Add(%/layer2/layer2.3/conv3/Conv_output_0, %/layer2/layer2.2/relu_2/Relu_output_0)\n",
      "  %/layer2/layer2.3/relu_2/Relu_output_0 = Relu(%/layer2/layer2.3/Add_output_0)\n",
      "  %/layer3/layer3.0/conv1/Conv_output_0 = Conv[dilations = [1, 1], group = 1, kernel_shape = [1, 1], pads = [0, 0, 0, 0], strides = [1, 1]](%/layer2/layer2.3/relu_2/Relu_output_0, %onnx::Conv_595, %onnx::Conv_596)\n",
      "  %/layer3/layer3.0/relu/Relu_output_0 = Relu(%/layer3/layer3.0/conv1/Conv_output_0)\n",
      "  %/layer3/layer3.0/conv2/Conv_output_0 = Conv[dilations = [1, 1], group = 1, kernel_shape = [3, 3], pads = [1, 1, 1, 1], strides = [2, 2]](%/layer3/layer3.0/relu/Relu_output_0, %onnx::Conv_598, %onnx::Conv_599)\n",
      "  %/layer3/layer3.0/relu_1/Relu_output_0 = Relu(%/layer3/layer3.0/conv2/Conv_output_0)\n",
      "  %/layer3/layer3.0/conv3/Conv_output_0 = Conv[dilations = [1, 1], group = 1, kernel_shape = [1, 1], pads = [0, 0, 0, 0], strides = [1, 1]](%/layer3/layer3.0/relu_1/Relu_output_0, %onnx::Conv_601, %onnx::Conv_602)\n",
      "  %/layer3/layer3.0/downsample/downsample.0/Conv_output_0 = Conv[dilations = [1, 1], group = 1, kernel_shape = [1, 1], pads = [0, 0, 0, 0], strides = [2, 2]](%/layer2/layer2.3/relu_2/Relu_output_0, %onnx::Conv_604, %onnx::Conv_605)\n",
      "  %/layer3/layer3.0/Add_output_0 = Add(%/layer3/layer3.0/conv3/Conv_output_0, %/layer3/layer3.0/downsample/downsample.0/Conv_output_0)\n",
      "  %/layer3/layer3.0/relu_2/Relu_output_0 = Relu(%/layer3/layer3.0/Add_output_0)\n",
      "  %/layer3/layer3.1/conv1/Conv_output_0 = Conv[dilations = [1, 1], group = 1, kernel_shape = [1, 1], pads = [0, 0, 0, 0], strides = [1, 1]](%/layer3/layer3.0/relu_2/Relu_output_0, %onnx::Conv_607, %onnx::Conv_608)\n",
      "  %/layer3/layer3.1/relu/Relu_output_0 = Relu(%/layer3/layer3.1/conv1/Conv_output_0)\n",
      "  %/layer3/layer3.1/conv2/Conv_output_0 = Conv[dilations = [1, 1], group = 1, kernel_shape = [3, 3], pads = [1, 1, 1, 1], strides = [1, 1]](%/layer3/layer3.1/relu/Relu_output_0, %onnx::Conv_610, %onnx::Conv_611)\n",
      "  %/layer3/layer3.1/relu_1/Relu_output_0 = Relu(%/layer3/layer3.1/conv2/Conv_output_0)\n",
      "  %/layer3/layer3.1/conv3/Conv_output_0 = Conv[dilations = [1, 1], group = 1, kernel_shape = [1, 1], pads = [0, 0, 0, 0], strides = [1, 1]](%/layer3/layer3.1/relu_1/Relu_output_0, %onnx::Conv_613, %onnx::Conv_614)\n",
      "  %/layer3/layer3.1/Add_output_0 = Add(%/layer3/layer3.1/conv3/Conv_output_0, %/layer3/layer3.0/relu_2/Relu_output_0)\n",
      "  %/layer3/layer3.1/relu_2/Relu_output_0 = Relu(%/layer3/layer3.1/Add_output_0)\n",
      "  %/layer3/layer3.2/conv1/Conv_output_0 = Conv[dilations = [1, 1], group = 1, kernel_shape = [1, 1], pads = [0, 0, 0, 0], strides = [1, 1]](%/layer3/layer3.1/relu_2/Relu_output_0, %onnx::Conv_616, %onnx::Conv_617)\n",
      "  %/layer3/layer3.2/relu/Relu_output_0 = Relu(%/layer3/layer3.2/conv1/Conv_output_0)\n",
      "  %/layer3/layer3.2/conv2/Conv_output_0 = Conv[dilations = [1, 1], group = 1, kernel_shape = [3, 3], pads = [1, 1, 1, 1], strides = [1, 1]](%/layer3/layer3.2/relu/Relu_output_0, %onnx::Conv_619, %onnx::Conv_620)\n",
      "  %/layer3/layer3.2/relu_1/Relu_output_0 = Relu(%/layer3/layer3.2/conv2/Conv_output_0)\n",
      "  %/layer3/layer3.2/conv3/Conv_output_0 = Conv[dilations = [1, 1], group = 1, kernel_shape = [1, 1], pads = [0, 0, 0, 0], strides = [1, 1]](%/layer3/layer3.2/relu_1/Relu_output_0, %onnx::Conv_622, %onnx::Conv_623)\n",
      "  %/layer3/layer3.2/Add_output_0 = Add(%/layer3/layer3.2/conv3/Conv_output_0, %/layer3/layer3.1/relu_2/Relu_output_0)\n",
      "  %/layer3/layer3.2/relu_2/Relu_output_0 = Relu(%/layer3/layer3.2/Add_output_0)\n",
      "  %/layer3/layer3.3/conv1/Conv_output_0 = Conv[dilations = [1, 1], group = 1, kernel_shape = [1, 1], pads = [0, 0, 0, 0], strides = [1, 1]](%/layer3/layer3.2/relu_2/Relu_output_0, %onnx::Conv_625, %onnx::Conv_626)\n",
      "  %/layer3/layer3.3/relu/Relu_output_0 = Relu(%/layer3/layer3.3/conv1/Conv_output_0)\n",
      "  %/layer3/layer3.3/conv2/Conv_output_0 = Conv[dilations = [1, 1], group = 1, kernel_shape = [3, 3], pads = [1, 1, 1, 1], strides = [1, 1]](%/layer3/layer3.3/relu/Relu_output_0, %onnx::Conv_628, %onnx::Conv_629)\n",
      "  %/layer3/layer3.3/relu_1/Relu_output_0 = Relu(%/layer3/layer3.3/conv2/Conv_output_0)\n",
      "  %/layer3/layer3.3/conv3/Conv_output_0 = Conv[dilations = [1, 1], group = 1, kernel_shape = [1, 1], pads = [0, 0, 0, 0], strides = [1, 1]](%/layer3/layer3.3/relu_1/Relu_output_0, %onnx::Conv_631, %onnx::Conv_632)\n",
      "  %/layer3/layer3.3/Add_output_0 = Add(%/layer3/layer3.3/conv3/Conv_output_0, %/layer3/layer3.2/relu_2/Relu_output_0)\n",
      "  %/layer3/layer3.3/relu_2/Relu_output_0 = Relu(%/layer3/layer3.3/Add_output_0)\n",
      "  %/layer3/layer3.4/conv1/Conv_output_0 = Conv[dilations = [1, 1], group = 1, kernel_shape = [1, 1], pads = [0, 0, 0, 0], strides = [1, 1]](%/layer3/layer3.3/relu_2/Relu_output_0, %onnx::Conv_634, %onnx::Conv_635)\n",
      "  %/layer3/layer3.4/relu/Relu_output_0 = Relu(%/layer3/layer3.4/conv1/Conv_output_0)\n",
      "  %/layer3/layer3.4/conv2/Conv_output_0 = Conv[dilations = [1, 1], group = 1, kernel_shape = [3, 3], pads = [1, 1, 1, 1], strides = [1, 1]](%/layer3/layer3.4/relu/Relu_output_0, %onnx::Conv_637, %onnx::Conv_638)\n",
      "  %/layer3/layer3.4/relu_1/Relu_output_0 = Relu(%/layer3/layer3.4/conv2/Conv_output_0)\n",
      "  %/layer3/layer3.4/conv3/Conv_output_0 = Conv[dilations = [1, 1], group = 1, kernel_shape = [1, 1], pads = [0, 0, 0, 0], strides = [1, 1]](%/layer3/layer3.4/relu_1/Relu_output_0, %onnx::Conv_640, %onnx::Conv_641)\n",
      "  %/layer3/layer3.4/Add_output_0 = Add(%/layer3/layer3.4/conv3/Conv_output_0, %/layer3/layer3.3/relu_2/Relu_output_0)\n",
      "  %/layer3/layer3.4/relu_2/Relu_output_0 = Relu(%/layer3/layer3.4/Add_output_0)\n",
      "  %/layer3/layer3.5/conv1/Conv_output_0 = Conv[dilations = [1, 1], group = 1, kernel_shape = [1, 1], pads = [0, 0, 0, 0], strides = [1, 1]](%/layer3/layer3.4/relu_2/Relu_output_0, %onnx::Conv_643, %onnx::Conv_644)\n",
      "  %/layer3/layer3.5/relu/Relu_output_0 = Relu(%/layer3/layer3.5/conv1/Conv_output_0)\n",
      "  %/layer3/layer3.5/conv2/Conv_output_0 = Conv[dilations = [1, 1], group = 1, kernel_shape = [3, 3], pads = [1, 1, 1, 1], strides = [1, 1]](%/layer3/layer3.5/relu/Relu_output_0, %onnx::Conv_646, %onnx::Conv_647)\n",
      "  %/layer3/layer3.5/relu_1/Relu_output_0 = Relu(%/layer3/layer3.5/conv2/Conv_output_0)\n",
      "  %/layer3/layer3.5/conv3/Conv_output_0 = Conv[dilations = [1, 1], group = 1, kernel_shape = [1, 1], pads = [0, 0, 0, 0], strides = [1, 1]](%/layer3/layer3.5/relu_1/Relu_output_0, %onnx::Conv_649, %onnx::Conv_650)\n",
      "  %/layer3/layer3.5/Add_output_0 = Add(%/layer3/layer3.5/conv3/Conv_output_0, %/layer3/layer3.4/relu_2/Relu_output_0)\n",
      "  %/layer3/layer3.5/relu_2/Relu_output_0 = Relu(%/layer3/layer3.5/Add_output_0)\n",
      "  %/layer4/layer4.0/conv1/Conv_output_0 = Conv[dilations = [1, 1], group = 1, kernel_shape = [1, 1], pads = [0, 0, 0, 0], strides = [1, 1]](%/layer3/layer3.5/relu_2/Relu_output_0, %onnx::Conv_652, %onnx::Conv_653)\n",
      "  %/layer4/layer4.0/relu/Relu_output_0 = Relu(%/layer4/layer4.0/conv1/Conv_output_0)\n",
      "  %/layer4/layer4.0/conv2/Conv_output_0 = Conv[dilations = [1, 1], group = 1, kernel_shape = [3, 3], pads = [1, 1, 1, 1], strides = [2, 2]](%/layer4/layer4.0/relu/Relu_output_0, %onnx::Conv_655, %onnx::Conv_656)\n",
      "  %/layer4/layer4.0/relu_1/Relu_output_0 = Relu(%/layer4/layer4.0/conv2/Conv_output_0)\n",
      "  %/layer4/layer4.0/conv3/Conv_output_0 = Conv[dilations = [1, 1], group = 1, kernel_shape = [1, 1], pads = [0, 0, 0, 0], strides = [1, 1]](%/layer4/layer4.0/relu_1/Relu_output_0, %onnx::Conv_658, %onnx::Conv_659)\n",
      "  %/layer4/layer4.0/downsample/downsample.0/Conv_output_0 = Conv[dilations = [1, 1], group = 1, kernel_shape = [1, 1], pads = [0, 0, 0, 0], strides = [2, 2]](%/layer3/layer3.5/relu_2/Relu_output_0, %onnx::Conv_661, %onnx::Conv_662)\n",
      "  %/layer4/layer4.0/Add_output_0 = Add(%/layer4/layer4.0/conv3/Conv_output_0, %/layer4/layer4.0/downsample/downsample.0/Conv_output_0)\n",
      "  %/layer4/layer4.0/relu_2/Relu_output_0 = Relu(%/layer4/layer4.0/Add_output_0)\n",
      "  %/layer4/layer4.1/conv1/Conv_output_0 = Conv[dilations = [1, 1], group = 1, kernel_shape = [1, 1], pads = [0, 0, 0, 0], strides = [1, 1]](%/layer4/layer4.0/relu_2/Relu_output_0, %onnx::Conv_664, %onnx::Conv_665)\n",
      "  %/layer4/layer4.1/relu/Relu_output_0 = Relu(%/layer4/layer4.1/conv1/Conv_output_0)\n",
      "  %/layer4/layer4.1/conv2/Conv_output_0 = Conv[dilations = [1, 1], group = 1, kernel_shape = [3, 3], pads = [1, 1, 1, 1], strides = [1, 1]](%/layer4/layer4.1/relu/Relu_output_0, %onnx::Conv_667, %onnx::Conv_668)\n",
      "  %/layer4/layer4.1/relu_1/Relu_output_0 = Relu(%/layer4/layer4.1/conv2/Conv_output_0)\n",
      "  %/layer4/layer4.1/conv3/Conv_output_0 = Conv[dilations = [1, 1], group = 1, kernel_shape = [1, 1], pads = [0, 0, 0, 0], strides = [1, 1]](%/layer4/layer4.1/relu_1/Relu_output_0, %onnx::Conv_670, %onnx::Conv_671)\n",
      "  %/layer4/layer4.1/Add_output_0 = Add(%/layer4/layer4.1/conv3/Conv_output_0, %/layer4/layer4.0/relu_2/Relu_output_0)\n",
      "  %/layer4/layer4.1/relu_2/Relu_output_0 = Relu(%/layer4/layer4.1/Add_output_0)\n",
      "  %/layer4/layer4.2/conv1/Conv_output_0 = Conv[dilations = [1, 1], group = 1, kernel_shape = [1, 1], pads = [0, 0, 0, 0], strides = [1, 1]](%/layer4/layer4.1/relu_2/Relu_output_0, %onnx::Conv_673, %onnx::Conv_674)\n",
      "  %/layer4/layer4.2/relu/Relu_output_0 = Relu(%/layer4/layer4.2/conv1/Conv_output_0)\n",
      "  %/layer4/layer4.2/conv2/Conv_output_0 = Conv[dilations = [1, 1], group = 1, kernel_shape = [3, 3], pads = [1, 1, 1, 1], strides = [1, 1]](%/layer4/layer4.2/relu/Relu_output_0, %onnx::Conv_676, %onnx::Conv_677)\n",
      "  %/layer4/layer4.2/relu_1/Relu_output_0 = Relu(%/layer4/layer4.2/conv2/Conv_output_0)\n",
      "  %/layer4/layer4.2/conv3/Conv_output_0 = Conv[dilations = [1, 1], group = 1, kernel_shape = [1, 1], pads = [0, 0, 0, 0], strides = [1, 1]](%/layer4/layer4.2/relu_1/Relu_output_0, %onnx::Conv_679, %onnx::Conv_680)\n",
      "  %/layer4/layer4.2/Add_output_0 = Add(%/layer4/layer4.2/conv3/Conv_output_0, %/layer4/layer4.1/relu_2/Relu_output_0)\n",
      "  %/layer4/layer4.2/relu_2/Relu_output_0 = Relu(%/layer4/layer4.2/Add_output_0)\n",
      "  %/deconv_layers/deconv_layers.0/ConvTranspose_output_0 = ConvTranspose[dilations = [1, 1], group = 1, kernel_shape = [4, 4], pads = [1, 1, 1, 1], strides = [2, 2]](%/layer4/layer4.2/relu_2/Relu_output_0, %deconv_layers.0.weight)\n",
      "  %/deconv_layers/deconv_layers.1/BatchNormalization_output_0 = BatchNormalization[epsilon = 9.99999974737875e-06, momentum = 0.899999976158142](%/deconv_layers/deconv_layers.0/ConvTranspose_output_0, %deconv_layers.1.weight, %deconv_layers.1.bias, %deconv_layers.1.running_mean, %deconv_layers.1.running_var)\n",
      "  %/deconv_layers/deconv_layers.2/Relu_output_0 = Relu(%/deconv_layers/deconv_layers.1/BatchNormalization_output_0)\n",
      "  %/deconv_layers/deconv_layers.3/ConvTranspose_output_0 = ConvTranspose[dilations = [1, 1], group = 1, kernel_shape = [4, 4], pads = [1, 1, 1, 1], strides = [2, 2]](%/deconv_layers/deconv_layers.2/Relu_output_0, %deconv_layers.3.weight)\n",
      "  %/deconv_layers/deconv_layers.4/BatchNormalization_output_0 = BatchNormalization[epsilon = 9.99999974737875e-06, momentum = 0.899999976158142](%/deconv_layers/deconv_layers.3/ConvTranspose_output_0, %deconv_layers.4.weight, %deconv_layers.4.bias, %deconv_layers.4.running_mean, %deconv_layers.4.running_var)\n",
      "  %/deconv_layers/deconv_layers.5/Relu_output_0 = Relu(%/deconv_layers/deconv_layers.4/BatchNormalization_output_0)\n",
      "  %/deconv_layers/deconv_layers.6/ConvTranspose_output_0 = ConvTranspose[dilations = [1, 1], group = 1, kernel_shape = [4, 4], pads = [1, 1, 1, 1], strides = [2, 2]](%/deconv_layers/deconv_layers.5/Relu_output_0, %deconv_layers.6.weight)\n",
      "  %/deconv_layers/deconv_layers.7/BatchNormalization_output_0 = BatchNormalization[epsilon = 9.99999974737875e-06, momentum = 0.899999976158142](%/deconv_layers/deconv_layers.6/ConvTranspose_output_0, %deconv_layers.7.weight, %deconv_layers.7.bias, %deconv_layers.7.running_mean, %deconv_layers.7.running_var)\n",
      "  %/deconv_layers/deconv_layers.8/Relu_output_0 = Relu(%/deconv_layers/deconv_layers.7/BatchNormalization_output_0)\n",
      "  %output = Conv[dilations = [1, 1], group = 1, kernel_shape = [1, 1], pads = [0, 0, 0, 0], strides = [1, 1]](%/deconv_layers/deconv_layers.8/Relu_output_0, %final_layer.weight, %final_layer.bias)\n",
      "  return %output\n",
      "}\n"
     ]
    }
   ],
   "source": [
    "print(onnx.helper.printable_graph(backbone_onnx.graph))"
   ]
  },
  {
   "cell_type": "code",
   "execution_count": 22,
   "metadata": {},
   "outputs": [],
   "source": [
    "import onnxruntime as ort\n",
    "ort_session = ort.InferenceSession('backbone.onnx')"
   ]
  },
  {
   "cell_type": "code",
   "execution_count": 23,
   "metadata": {},
   "outputs": [
    {
     "name": "stdout",
     "output_type": "stream",
     "text": [
      "Elapsed: 170.04ms\n"
     ]
    }
   ],
   "source": [
    "view = copy.deepcopy(original)\n",
    "view = view.detach().cpu().numpy()\n",
    "with timer():\n",
    "    outptus = ort_session.run(None, {'input': view})"
   ]
  },
  {
   "cell_type": "code",
   "execution_count": 24,
   "metadata": {},
   "outputs": [
    {
     "name": "stdout",
     "output_type": "stream",
     "text": [
      "Elapsed: 156.16ms\n"
     ]
    }
   ],
   "source": [
    "view = copy.deepcopy(original)\n",
    "view = view.detach().cpu().numpy()\n",
    "with timer():\n",
    "    outptus = ort_session.run(None, {'input': view})"
   ]
  },
  {
   "cell_type": "code",
   "execution_count": 25,
   "metadata": {},
   "outputs": [],
   "source": [
    "similarity3 = torch.nn.functional.cosine_similarity(torch.tensor(outptus[0], device=device), heatmaps, dim=1)"
   ]
  },
  {
   "cell_type": "code",
   "execution_count": 26,
   "metadata": {},
   "outputs": [
    {
     "data": {
      "text/plain": [
       "tensor(0.9999, device='cuda:0')"
      ]
     },
     "execution_count": 26,
     "metadata": {},
     "output_type": "execute_result"
    }
   ],
   "source": [
    "similarity3.mean()"
   ]
  },
  {
   "cell_type": "markdown",
   "metadata": {},
   "source": [
    "# TENSORRT"
   ]
  },
  {
   "cell_type": "code",
   "execution_count": 27,
   "metadata": {},
   "outputs": [],
   "source": [
    "import tensorrt as trt"
   ]
  },
  {
   "cell_type": "code",
   "execution_count": 28,
   "metadata": {},
   "outputs": [],
   "source": [
    "class MyLogger(trt.ILogger):\n",
    "    def __init__(self, level=trt.Logger.INFO):\n",
    "        trt.ILogger.__init__(self)\n",
    "        self.level = level.value\n",
    "    \n",
    "    def log(self, severity, msg):\n",
    "        if severity.value <= self.level:\n",
    "            print(f'[{severity.name:^14}] {msg}')\n",
    "\n",
    "TRT_LOGGER = MyLogger(trt.Logger.INFO)"
   ]
  },
  {
   "cell_type": "code",
   "execution_count": 29,
   "metadata": {},
   "outputs": [],
   "source": [
    "def check_version(library_name, min, max):\n",
    "    try:\n",
    "        import sys\n",
    "        if sys.version_info >= (3, 8):\n",
    "            import importlib.metadata as metadata\n",
    "            version = metadata.version(library_name)\n",
    "        else:\n",
    "            import pkg_resources as metadata\n",
    "            version = metadta.get_distribution(library_name).version\n",
    "        \n",
    "        TRT_LOGGER.log(trt.Logger.INFO, f'{library_name} version: {version}')\n",
    "        from packaging import version as pkg_version\n",
    "        if min <= pkg_version.parse(version) <= max:\n",
    "            TRT_LOGGER.log(trt.Logger.INFO, f'{library_name} version is compatible')\n",
    "        else:\n",
    "            TRT_LOGGER.log(trt.Logger.ERROR, f'{library_name} version is not compatible')\n",
    "    except (metadata.PackageNotFoundError, metadata.DistributionNotFound):\n",
    "        TRT_LOGGER.log(trt.Logger.ERROR, f'{library_name} is not installed')"
   ]
  },
  {
   "cell_type": "code",
   "execution_count": 30,
   "metadata": {},
   "outputs": [],
   "source": [
    "def build_engine(onnx_file_path, engine_file_path, half=False, int8=False, dynamic_shape=True, opt_shape=(1, 3, 512, 960), io_mode=True):\n",
    "    try:\n",
    "        import tensorrt as trt\n",
    "    except ImportError:\n",
    "        import platform\n",
    "        if platform.system() == 'Linux':\n",
    "            check_version('tensorrt', '7.0.0', '10.1.0')\n",
    "    \n",
    "\n",
    "    prefix = 'ONNX'\n",
    "    builder = trt.Builder(TRT_LOGGER)\n",
    "    network = builder.create_network(1 << int(trt.NetworkDefinitionCreationFlag.EXPLICIT_BATCH))\n",
    "    parser = trt.OnnxParser(network, TRT_LOGGER)\n",
    "    with open(onnx_file_path, 'rb') as model:\n",
    "        if not parser.parse(model.read()):\n",
    "            print('Failed to parse the ONNX file')\n",
    "            for error in range(parser.num_errors):\n",
    "                print(parser.get_error(error))\n",
    "            return None\n",
    "    TRT_LOGGER.log(trt.Logger.INFO, 'ONNX file has been parsed successfully')\n",
    "\n",
    "\n",
    "    prefix = 'TensorRT'\n",
    "    TRT_LOGGER.log(trt.Logger.INFO, f'Starting building engine with TensorRT version: {trt.__version__}...')\n",
    "    is_trt10 = int(trt.__version__.split('.')[0]) >= 10\n",
    "    \n",
    "    \n",
    "    config = builder.create_builder_config()\n",
    "    if is_trt10:\n",
    "        config.set_memory_pool_limit(trt.MemoryPoolType.WORKSPACE, 1 << 30)\n",
    "        # config.set_flag(trt.BuilderFlag.DEBUG)\n",
    "    else:\n",
    "        builder.max_workspace_size = 1 << 30\n",
    "        # builder.debug_sync = True\n",
    "    \n",
    "    # Network inputs\n",
    "    inputs = [network.get_input(i) for i in range(network.num_inputs)]\n",
    "    outputs = [network.get_output(i) for i in range(network.num_outputs)]\n",
    "    for inp in inputs:\n",
    "        TRT_LOGGER.log(trt.Logger.INFO, f'input \"{inp.name}\" with shape: {inp.shape} {inp.dtype}')\n",
    "    for out in outputs:\n",
    "        TRT_LOGGER.log(trt.Logger.INFO, f'output \"{out.name}\" with shape: {out.shape} {out.dtype}')\n",
    "    \n",
    "    if dynamic_shape:\n",
    "        TRT_LOGGER.log(trt.Logger.INFO, 'Dynamic shape is enabled')\n",
    "        profile = builder.create_optimization_profile()\n",
    "        for inp in inputs:\n",
    "            profile.set_shape('input', min=(1, 3, 224, 224), opt=opt_shape, max=(1, 3, 1080, 1920))\n",
    "        config.add_optimization_profile(profile)\n",
    "    \n",
    "    available_half = builder.platform_has_fast_fp16 and half\n",
    "    available_int8 = builder.platform_has_fast_int8 and int8\n",
    "    TRT_LOGGER.log(trt.Logger.INFO, f'FP16 capability: {available_half}, INT8 capability: {available_int8}')\n",
    "    \n",
    "    # from YOLO\n",
    "    if available_int8:\n",
    "        TRT_LOGGER.log(trt.Logger.VERBOSE, 'TODO INT8')\n",
    "        # config.set_flag(trt.BuilderFlag.INT8)\n",
    "        # config.set_calibration_profile(profile)\n",
    "        # config.profiling_verbosity = trt.ProfilingVerbosity.DETAILED\n",
    "        \n",
    "        # class EngineCalibraotr(trt.IInt8Calibrator):\n",
    "        #     def __init__(self, dataset, batch: int, cache: str = \"\"):\n",
    "        #         trt.IInt8Calibrator.__init__(self)\n",
    "        #         self.dataset = dataset\n",
    "        #         self.data_iter = iter(dataset)\n",
    "        #         self.algo = trt.CalibrationAlgoType.ENTROPY_CALIBRATION_2\n",
    "        #         self.batch = batch\n",
    "        #         self.cache = Path(cache)\n",
    "        #     def get_algorithm(self) -> trt.CalibrationAlgoType:\n",
    "        #         return self.algo\n",
    "        #     def get_batch_size(self) -> int:\n",
    "        #         return self.batch or 1\n",
    "        #     def get_batch(self, names) -> list:\n",
    "        #         try:\n",
    "        #             im0s = next(self.data_iter)\n",
    "        #             batch = next(self.data_iter)\n",
    "        #         except StopIteration:\n",
    "        #             self.data_iter = iter(self.dataset)\n",
    "        #             batch = next(self.data_iter)\n",
    "        #         return [batch]\n",
    "        # TRT_LOGGER.log(trt.Logger.VERBOSE, 'INT8 mode is enabled')\n",
    "        # https://github.com/ultralytics/ultralytics/blob/main/ultralytics/engine/exporter.py#L679\n",
    "    elif available_half:\n",
    "        config.set_flag(trt.BuilderFlag.FP16)\n",
    "        TRT_LOGGER.log(trt.Logger.VERBOSE, 'FP16 mode is enabled')\n",
    "    else:\n",
    "        TRT_LOGGER.log(trt.Logger.VERBOSE, 'FP32 mode is enabled')\n",
    "\n",
    "    build = builder.build_serialized_network if is_trt10 else builder.build_engine\n",
    "    with build(network, config) as engine, open(engine_file_path, 'wb') as f:\n",
    "        # Metadata\n",
    "        # meta = json.dumps(self.metadata)\n",
    "        # t.write(len(meta).to_bytes(4, byteorder=\"little\", signed=True))\n",
    "        # t.write(meta.encode())\n",
    "        # Model\n",
    "        f.write(engine if is_trt10 else engine.serialize())\n",
    "    \n",
    "        if engine is None:\n",
    "            TRT_LOGGER.log(trt.Logger.ERROR, 'Failed to build the engine')\n",
    "            return None\n",
    "    \n",
    "        TRT_LOGGER.log(trt.Logger.INFO, 'Engine has been built successfully')\n",
    "        return engine"
   ]
  },
  {
   "cell_type": "code",
   "execution_count": 31,
   "metadata": {},
   "outputs": [
    {
     "name": "stdout",
     "output_type": "stream",
     "text": [
      "[     INFO     ] [MemUsageChange] Init CUDA: CPU +2, GPU +0, now: CPU 3530, GPU 3698 (MiB)\n",
      "[     INFO     ] [MemUsageChange] Init builder kernel library: CPU +2175, GPU +410, now: CPU 5860, GPU 4108 (MiB)\n",
      "[     INFO     ] ONNX file has been parsed successfully\n",
      "[     INFO     ] Starting building engine with TensorRT version: 10.3.0...\n",
      "[     INFO     ] input \"input\" with shape: (-1, 3, -1, -1) DataType.FLOAT\n",
      "[     INFO     ] output \"output\" with shape: (-1, 15, -1, -1) DataType.FLOAT\n",
      "[     INFO     ] Dynamic shape is enabled\n",
      "[     INFO     ] FP16 capability: True, INT8 capability: False\n",
      "[     INFO     ] Local timing cache in use. Profiling results in this builder pass will not be stored.\n",
      "[     INFO     ] Detected 1 inputs and 1 output network tensors.\n",
      "[     INFO     ] Total Host Persistent Memory: 344832\n",
      "[     INFO     ] Total Device Persistent Memory: 689152\n",
      "[     INFO     ] Total Scratch Memory: 52742656\n",
      "[     INFO     ] [BlockAssignment] Started assigning block shifts. This will take 60 steps to complete.\n",
      "[     INFO     ] [BlockAssignment] Algorithm ShiftNTopDown took 0.646469ms to assign 3 blocks to 60 nodes requiring 149790720 bytes.\n",
      "[     INFO     ] Total Activation Memory: 149790720\n",
      "[     INFO     ] Total Weights Memory: 67972160\n",
      "[     INFO     ] Engine generation completed in 35.3533 seconds.\n",
      "[     INFO     ] [MemUsageStats] Peak memory usage of TRT CPU/GPU memory allocators: CPU 16 MiB, GPU 1067 MiB\n",
      "[     INFO     ] [MemUsageStats] Peak memory usage during Engine building and serialization: CPU: 7519 MiB\n",
      "[     INFO     ] Engine has been built successfully\n"
     ]
    }
   ],
   "source": [
    "serialized_engine = build_engine('backbone.onnx', 'backbone.engine', half=True)"
   ]
  },
  {
   "cell_type": "code",
   "execution_count": 32,
   "metadata": {},
   "outputs": [],
   "source": [
    "def load_engine(engine_path, logger=TRT_LOGGER):\n",
    "    with open(engine_path, 'rb') as f, trt.Runtime(logger) as runtime:\n",
    "        return runtime.deserialize_cuda_engine(f.read())"
   ]
  },
  {
   "cell_type": "code",
   "execution_count": 33,
   "metadata": {},
   "outputs": [
    {
     "name": "stdout",
     "output_type": "stream",
     "text": [
      "[     INFO     ] Loaded engine size: 67 MiB\n"
     ]
    }
   ],
   "source": [
    "engine = load_engine('backbone.engine')"
   ]
  },
  {
   "cell_type": "code",
   "execution_count": 34,
   "metadata": {},
   "outputs": [
    {
     "name": "stdout",
     "output_type": "stream",
     "text": [
      "[     INFO     ] The logger passed into createInferRuntime differs from one already provided for an existing builder, runtime, or refitter. Uses of the global logger, returned by nvinfer1::getLogger(), will return the existing value.\n",
      "[     INFO     ] Loaded engine size: 67 MiB\n",
      "[     INFO     ] [MemUsageChange] TensorRT-managed allocation in IExecutionContext creation: CPU +0, GPU +144, now: CPU 0, GPU 274 (MiB)\n"
     ]
    }
   ],
   "source": [
    "from SelfPose3d.lib.models.engine_model import EngineModel\n",
    "\n",
    "engine_model = EngineModel('backbone.engine')"
   ]
  },
  {
   "cell_type": "code",
   "execution_count": 35,
   "metadata": {},
   "outputs": [
    {
     "name": "stdout",
     "output_type": "stream",
     "text": [
      "Elapsed: 1.16ms\n"
     ]
    }
   ],
   "source": [
    "view = copy.deepcopy(original)\n",
    "with timer():\n",
    "    result2 = engine_model(view)"
   ]
  },
  {
   "cell_type": "code",
   "execution_count": 36,
   "metadata": {},
   "outputs": [
    {
     "name": "stdout",
     "output_type": "stream",
     "text": [
      "Elapsed: 1.36ms\n"
     ]
    }
   ],
   "source": [
    "view = copy.deepcopy(original)\n",
    "with timer():\n",
    "    result2 = engine_model(view)"
   ]
  },
  {
   "cell_type": "code",
   "execution_count": 37,
   "metadata": {},
   "outputs": [],
   "source": [
    "similarity2 = torch.nn.functional.cosine_similarity(result2, heatmaps, dim=1)"
   ]
  },
  {
   "cell_type": "code",
   "execution_count": 38,
   "metadata": {},
   "outputs": [
    {
     "data": {
      "text/plain": [
       "tensor(0.9980, device='cuda:0')"
      ]
     },
     "execution_count": 38,
     "metadata": {},
     "output_type": "execute_result"
    }
   ],
   "source": [
    "similarity2.mean()"
   ]
  },
  {
   "cell_type": "markdown",
   "metadata": {},
   "source": [
    "# VISUALIZAITON"
   ]
  },
  {
   "cell_type": "code",
   "execution_count": 39,
   "metadata": {},
   "outputs": [
    {
     "name": "stderr",
     "output_type": "stream",
     "text": [
      "Clipping input data to the valid range for imshow with RGB data ([0..1] for floats or [0..255] for integers). Got range [-2.117904..2.64].\n"
     ]
    },
    {
     "data": {
      "text/plain": [
       "<matplotlib.image.AxesImage at 0x7494002b90d0>"
      ]
     },
     "execution_count": 39,
     "metadata": {},
     "output_type": "execute_result"
    },
    {
     "data": {
      "image/png": "[encoded data removed]",
      "text/plain": [
       "<Figure size 640x480 with 1 Axes>"
      ]
     },
     "metadata": {},
     "output_type": "display_data"
    }
   ],
   "source": [
    "import matplotlib.pyplot as plt\n",
    "\n",
    "img = original[0].detach().permute(1, 2, 0).cpu().numpy()\n",
    "\n",
    "plt.imshow(img[..., ::-1])"
   ]
  },
  {
   "cell_type": "code",
   "execution_count": 40,
   "metadata": {},
   "outputs": [
    {
     "data": {
      "text/plain": [
       "<matplotlib.image.AxesImage at 0x74932bb9a400>"
      ]
     },
     "execution_count": 40,
     "metadata": {},
     "output_type": "execute_result"
    },
    {
     "data": {
      "image/png": "[encoded data removed]",
      "text/plain": [
       "<Figure size 640x480 with 1 Axes>"
      ]
     },
     "metadata": {},
     "output_type": "display_data"
    }
   ],
   "source": [
    "plt.imshow(heatmaps[0][0].cpu().numpy())"
   ]
  },
  {
   "cell_type": "markdown",
   "metadata": {},
   "source": [
    "torch일 때"
   ]
  },
  {
   "cell_type": "code",
   "execution_count": 41,
   "metadata": {},
   "outputs": [
    {
     "data": {
      "text/plain": [
       "<matplotlib.image.AxesImage at 0x74932bb8a490>"
      ]
     },
     "execution_count": 41,
     "metadata": {},
     "output_type": "execute_result"
    },
    {
     "data": {
      "image/png": "[encoded data removed]",
      "text/plain": [
       "<Figure size 640x480 with 1 Axes>"
      ]
     },
     "metadata": {},
     "output_type": "display_data"
    }
   ],
   "source": [
    "plt.title(f'{similarity.mean().item() * 100}%')\n",
    "\n",
    "plt.imshow(result[0][0].detach().cpu().numpy())"
   ]
  },
  {
   "cell_type": "markdown",
   "metadata": {},
   "source": [
    "onnx일 때"
   ]
  },
  {
   "cell_type": "code",
   "execution_count": 42,
   "metadata": {},
   "outputs": [
    {
     "data": {
      "text/plain": [
       "<matplotlib.image.AxesImage at 0x74932ba9beb0>"
      ]
     },
     "execution_count": 42,
     "metadata": {},
     "output_type": "execute_result"
    },
    {
     "data": {
      "image/png": "[encoded data removed]",
      "text/plain": [
       "<Figure size 640x480 with 1 Axes>"
      ]
     },
     "metadata": {},
     "output_type": "display_data"
    }
   ],
   "source": [
    "plt.title(f'{similarity3.mean().item() * 100}%')\n",
    "\n",
    "plt.imshow(outptus[0][0][0])"
   ]
  },
  {
   "cell_type": "markdown",
   "metadata": {},
   "source": [
    "engine일 때"
   ]
  },
  {
   "cell_type": "code",
   "execution_count": 43,
   "metadata": {},
   "outputs": [
    {
     "data": {
      "text/plain": [
       "<matplotlib.image.AxesImage at 0x74932ba6d580>"
      ]
     },
     "execution_count": 43,
     "metadata": {},
     "output_type": "execute_result"
    },
    {
     "data": {
      "image/png": "[encoded data removed]",
      "text/plain": [
       "<Figure size 640x480 with 1 Axes>"
      ]
     },
     "metadata": {},
     "output_type": "display_data"
    }
   ],
   "source": [
    "plt.title(f'{similarity2.mean().item() * 100}%')\n",
    "\n",
    "plt.imshow(result2[0][0].detach().cpu().numpy())"
   ]
  }
 ],
 "metadata": {
  "kernelspec": {
   "display_name": "trt_test",
   "language": "python",
   "name": "python3"
  },
  "language_info": {
   "codemirror_mode": {
    "name": "ipython",
    "version": 3
   },
   "file_extension": ".py",
   "mimetype": "text/x-python",
   "name": "python",
   "nbconvert_exporter": "python",
   "pygments_lexer": "ipython3",
   "version": "3.9.19"
  }
 },
 "nbformat": 4,
 "nbformat_minor": 2
}
