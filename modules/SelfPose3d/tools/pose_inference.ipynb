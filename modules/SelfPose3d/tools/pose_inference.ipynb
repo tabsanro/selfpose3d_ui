{
 "cells": [
  {
   "cell_type": "markdown",
   "metadata": {},
   "source": [
    "3D pose 예측 모델 사용법 및 코드\n",
    "-------------\n",
    "모델을 불러오고 저장된 이미지를 불러오는 커스텀 데이터셋을 정의하고 출력된 포즈를 시각화하는 과정 코드"
   ]
  },
  {
   "cell_type": "markdown",
   "metadata": {},
   "source": [
    "### 모듈 불러오기 및 데이터셋 정의"
   ]
  },
  {
   "cell_type": "code",
   "execution_count": 1,
   "metadata": {},
   "outputs": [
    {
     "name": "stderr",
     "output_type": "stream",
     "text": [
      "/home/dojan/anaconda3/envs/selfpose3d/lib/python3.9/site-packages/tqdm/auto.py:21: TqdmWarning: IProgress not found. Please update jupyter and ipywidgets. See https://ipywidgets.readthedocs.io/en/stable/user_install.html\n",
      "  from .autonotebook import tqdm as notebook_tqdm\n"
     ]
    }
   ],
   "source": [
    "from __future__ import absolute_import\n",
    "from __future__ import division\n",
    "from __future__ import print_function\n",
    "\n",
    "import numpy as np\n",
    "import torch\n",
    "import torch.backends.cudnn as cudnn\n",
    "from torch.utils.data import Dataset, DataLoader, Subset, IterableDataset\n",
    "import torch.utils.data.distributed\n",
    "import torchvision.transforms as transforms\n",
    "from tqdm import tqdm\n",
    "import cv2\n",
    "import pickle\n",
    "import glob\n",
    "import os\n",
    "import matplotlib.pyplot as plt\n",
    "\n",
    "import _init_paths\n",
    "from core.config import config\n",
    "from core.config import update_config\n",
    "import models\n",
    "from utils.transforms import get_affine_transform, get_scale\n",
    "\n",
    "dir_path = os.path.dirname(os.getcwd())\n",
    "# config 파일 설정을 불러오기 위한 함수\n",
    "update_config(dir_path + r\"/config/cam4_posenet.yaml\")\n",
    "# 사용할 사전 학습된 모델 경로\n",
    "test_file = dir_path + r\"/../models/cam5_posenet.pth.tar\"\n",
    "# 사용할 데이터셋\n",
    "data_path = \"data_0705\"\n",
    "\n",
    "gpus = [0]\n",
    "\n",
    "normalize = transforms.Normalize(\n",
    "        mean=[0.485, 0.456, 0.406], std=[0.229, 0.224, 0.225])\n",
    "\n",
    "# cv2.VideoCapture 데이터셋\n",
    "class POCdatasetCV2(IterableDataset):\n",
    "    def __init__(self, cfg, transform=None, start_idx=0, end_idx=None):\n",
    "        self.dir_path = os.path.dirname(os.getcwd()) + \"/\" + data_path\n",
    "        self.start_idx = start_idx\n",
    "        self.end_idx = end_idx\n",
    "        self.cam_list = [1,2,3,4]\n",
    "        self.camera = self.get_cam()\n",
    "        self.caps = self.get_caps()\n",
    "\n",
    "        self.transform = transform\n",
    "        self.image_size = np.array(cfg.NETWORK.IMAGE_SIZE)\n",
    "        \n",
    "        if  self.end_idx is None:\n",
    "            self.end_idx = int(self.caps[0].get(cv2.CAP_PROP_FRAME_COUNT))\n",
    "\n",
    "    def get_caps(self):\n",
    "        caps = []\n",
    "        video_path = self.dir_path + \"/hdVideos/\"\n",
    "        for i in self.cam_list:\n",
    "            cap = cv2.VideoCapture(video_path + f\"hd_00_{i:02d}.mp4\")\n",
    "            cap.set(cv2.CAP_PROP_POS_FRAMES, self.start_idx)\n",
    "            caps.append(cap)\n",
    "            \n",
    "        return caps\n",
    "        \n",
    "    def get_cam(self):\n",
    "        camera = []\n",
    "        # for i in range(1,5):\n",
    "        for i in self.cam_list:\n",
    "            meta_file = self.dir_path + \"/calibration/camera\" + str(i) + \".pkl\"\n",
    "            with open(meta_file, \"rb\") as f:\n",
    "                calib = pickle.load(f)\n",
    "                \n",
    "            M = np.array([[1.0, 0.0, 0.0], [0.0, 0.0, -1.0], [0.0, 1.0, 0.0]])\n",
    "            R, _ = cv2.Rodrigues(calib['rvec'])\n",
    "            # R = R.dot(M)\n",
    "            T = (\n",
    "                -np.dot(R.T, calib['tvec']) * 1000\n",
    "            )\n",
    "\n",
    "            # m 딕셔너리 생성\n",
    "            cam = {\n",
    "                'R': R,\n",
    "                'T': T,  \n",
    "                'fx': calib['camera_matrix'][0, 0],\n",
    "                'fy': calib['camera_matrix'][1, 1],\n",
    "                'cx': calib['camera_matrix'][0, 2],\n",
    "                'cy': calib['camera_matrix'][1, 2],\n",
    "                'k': calib['dist_coeffs'][0][[0,1,4]].reshape(3, 1),  # 왜곡 계수 k1, k2, k3\n",
    "                'p': calib['dist_coeffs'][0][[2,3]].reshape(2, 1)  # 왜곡 계수 p1, p2\n",
    "            }\n",
    "            camera.append(cam)\n",
    "        return camera\n",
    "    \n",
    "    def __iter__(self):\n",
    "        idx = 0     \n",
    "        while True:\n",
    "            if idx >= self.end_idx - self.start_idx:\n",
    "                break\n",
    "            idx += 1\n",
    "            \n",
    "            inputs = []\n",
    "            for cap in self.caps:\n",
    "                ret, data_numpy = cap.read()\n",
    "                if not ret:\n",
    "                    print(f\"Failed to read image\")\n",
    "                    assert False\n",
    "                \n",
    "                data_numpy = cv2.cvtColor(data_numpy, cv2.COLOR_BGR2RGB)     \n",
    "\n",
    "                height, width, _ = data_numpy.shape\n",
    "                c = np.array([width / 2.0, height / 2.0])\n",
    "                s = get_scale((width, height), self.image_size)\n",
    "                r = 0\n",
    "\n",
    "                trans = get_affine_transform(c, s, r, self.image_size)\n",
    "                input = cv2.warpAffine(\n",
    "                    data_numpy,\n",
    "                    trans, (int(self.image_size[0]), int(self.image_size[1])),\n",
    "                    flags=cv2.INTER_LINEAR)\n",
    "                input = self.transform(input)\n",
    "\n",
    "                inputs.append(input)\n",
    "\n",
    "            meta = []\n",
    "\n",
    "            for i in range(len(self.cam_list)):\n",
    "                # m 딕셔너리 생성\n",
    "                m = {\n",
    "                'center': c,\n",
    "                'scale': s,\n",
    "                'rotation': r,\n",
    "                'camera': self.camera[i]\n",
    "                }\n",
    "                meta.append(m)\n",
    "                \n",
    "            yield inputs, meta\n",
    "        for cap in self.caps:\n",
    "            cap.release()"
   ]
  },
  {
   "cell_type": "markdown",
   "metadata": {},
   "source": [
    "### 모델 불러오기"
   ]
  },
  {
   "cell_type": "code",
   "execution_count": 6,
   "metadata": {},
   "outputs": [
    {
     "data": {
      "text/plain": [
       "<All keys matched successfully>"
      ]
     },
     "execution_count": 6,
     "metadata": {},
     "output_type": "execute_result"
    }
   ],
   "source": [
    "# 모델 불러오기\n",
    "\n",
    "test_file = r\"/home/dojan/FOCUS-1/SelfPose3d/models/POC_posenet.pth.tar\"\n",
    "model = models.multi_person_posenet_ssv.get_multi_person_pose_net(\n",
    "        config, is_train=True)\n",
    "with torch.no_grad():\n",
    "    model = torch.nn.DataParallel(model, device_ids=gpus).cuda()\n",
    "model.module.load_state_dict(torch.load(test_file), strict=False)"
   ]
  },
  {
   "cell_type": "code",
   "execution_count": 7,
   "metadata": {},
   "outputs": [
    {
     "data": {
      "text/plain": [
       "torch.nn.parallel.data_parallel.DataParallel"
      ]
     },
     "execution_count": 7,
     "metadata": {},
     "output_type": "execute_result"
    }
   ],
   "source": [
    "type(model)"
   ]
  },
  {
   "cell_type": "markdown",
   "metadata": {},
   "source": [
    "### evaluate"
   ]
  },
  {
   "cell_type": "code",
   "execution_count": 4,
   "metadata": {},
   "outputs": [
    {
     "name": "stderr",
     "output_type": "stream",
     "text": [
      "0it [00:00, ?it/s]/home/dojan/anaconda3/envs/selfpose3d/lib/python3.9/site-packages/torch/functional.py:504: UserWarning: torch.meshgrid: in an upcoming release, it will be required to pass the indexing argument. (Triggered internally at /opt/conda/conda-bld/pytorch_1670525539683/work/aten/src/ATen/native/TensorShape.cpp:3190.)\n",
      "  return _VF.meshgrid(tensors, **kwargs)  # type: ignore[attr-defined]\n",
      "8812it [13:50, 10.61it/s]\n"
     ]
    }
   ],
   "source": [
    "start_idx = 0   # 시작 프레임 인덱스\n",
    "end_idx = None  # 끝 프레임 인덱스, None일 경우 마지막까지\n",
    "\n",
    "test_dataset_cv2 = POCdatasetCV2(\n",
    "    config, transforms.Compose([\n",
    "        transforms.ToTensor(),\n",
    "        normalize,\n",
    "    ]),\n",
    "    start_idx=start_idx, \n",
    "    end_idx=end_idx)\n",
    "\n",
    "test_loader_cv2 = DataLoader(\n",
    "        test_dataset_cv2,\n",
    "        batch_size=1,\n",
    "        shuffle=False)\n",
    "\n",
    "model.eval()\n",
    "preds, roots = [], []\n",
    "feature_spaces = []\n",
    "with torch.no_grad():\n",
    "    for inputs, meta in tqdm(test_loader_cv2):\n",
    "        pred, heatmaps, grid_centers, root_cubes = model(views1=inputs, meta1=meta, inference=True)\n",
    "\n",
    "        pred = pred.detach().cpu().numpy()\n",
    "        root = grid_centers.detach().cpu().numpy()\n",
    "        root_cubes = root_cubes.detach().cpu().numpy()\n",
    "        for b in range(pred.shape[0]):\n",
    "            preds.append(pred[b])\n",
    "            roots.append(root[b])\n",
    "            feature_spaces.append(root_cubes[b])"
   ]
  },
  {
   "cell_type": "markdown",
   "metadata": {},
   "source": [
    "### 시각화 (한 프레임)"
   ]
  },
  {
   "cell_type": "code",
   "execution_count": 5,
   "metadata": {},
   "outputs": [
    {
     "data": {
      "image/png": "[encoded data removed]",
      "text/plain": [
       "<Figure size 640x480 with 1 Axes>"
      ]
     },
     "metadata": {},
     "output_type": "display_data"
    }
   ],
   "source": [
    "import matplotlib.pyplot as plt\n",
    "from mpl_toolkits.mplot3d import Axes3D\n",
    "import numpy as np\n",
    "\n",
    "LIMBS = [\n",
    "    [0, 1],\n",
    "    [0, 2],\n",
    "    [0, 3],\n",
    "    [3, 4],\n",
    "    [4, 5],\n",
    "    [0, 9],\n",
    "    [9, 10],\n",
    "    [10, 11],\n",
    "    [2, 6],\n",
    "    [2, 12],\n",
    "    [6, 7],\n",
    "    [7, 8],\n",
    "    [12, 13],\n",
    "    [13, 14],\n",
    "]\n",
    "\n",
    "fig = plt.figure()\n",
    "ax = fig.add_subplot(111, projection='3d')\n",
    "\n",
    "preds = output['preds'][218]\n",
    "\n",
    "for pose in preds:\n",
    "    if pose[2][3] == -1:\n",
    "        continue\n",
    "\n",
    "    x = pose[:, 0]\n",
    "    y = pose[:, 1]\n",
    "    z = pose[:, 2]\n",
    "\n",
    "    # 3D 플롯 생성\n",
    "\n",
    "\n",
    "    ax.scatter(x, y, z, c='r', marker='o')\n",
    "\n",
    "    for limb in LIMBS:\n",
    "        joint1, joint2 = limb\n",
    "        x_values = [pose[joint1][0], pose[joint2][0]]\n",
    "        y_values = [pose[joint1][1], pose[joint2][1]]\n",
    "        z_values = [pose[joint1][2], pose[joint2][2]]\n",
    "        ax.plot(x_values, y_values, z_values, 'ro-')\n",
    "\n",
    "    # Annotate the joints\n",
    "    for idx, coord in enumerate(pose):\n",
    "        ax.text(coord[0], coord[1], coord[2], idx, fontsize=12, ha='right')\n",
    "\n",
    "\n",
    "    ax.set_xlabel('X Label')\n",
    "    ax.set_ylabel('Y Label')\n",
    "    ax.set_zlabel('Z Label')\n",
    "\n",
    "\n",
    "plt.show()"
   ]
  },
  {
   "cell_type": "markdown",
   "metadata": {},
   "source": [
    "### 시각화 (영상화)"
   ]
  },
  {
   "cell_type": "code",
   "execution_count": 49,
   "metadata": {},
   "outputs": [
    {
     "name": "stdout",
     "output_type": "stream",
     "text": [
      "Animation saved as ../temp/sample.avi\n"
     ]
    },
    {
     "data": {
      "image/png": "[encoded data removed]",
      "text/plain": [
       "<Figure size 640x480 with 1 Axes>"
      ]
     },
     "metadata": {},
     "output_type": "display_data"
    }
   ],
   "source": [
    "import matplotlib.pyplot as plt\n",
    "import matplotlib.animation as animation\n",
    "from mpl_toolkits.mplot3d import Axes3D\n",
    "import numpy as np\n",
    "import imageio\n",
    "import math\n",
    "\n",
    "LIMBS = [\n",
    "    [0, 1],\n",
    "    [0, 2],\n",
    "    [0, 3],\n",
    "    [3, 4],\n",
    "    [4, 5],\n",
    "    [0, 9],\n",
    "    [9, 10],\n",
    "    [10, 11],\n",
    "    [2, 6],\n",
    "    [2, 12],\n",
    "    [6, 7],\n",
    "    [7, 8],\n",
    "    [12, 13],\n",
    "    [13, 14],\n",
    "]\n",
    "\n",
    "def calculate_angle(p1, p2, p3):\n",
    "    vector1 = p1 - p2\n",
    "    vector2 = p3 - p2\n",
    "    dot_product = np.dot(vector1, vector2)\n",
    "    magnitude1 = np.linalg.norm(vector1)\n",
    "    magnitude2 = np.linalg.norm(vector2)\n",
    "    angle = math.degrees(math.acos(dot_product / (magnitude1 * magnitude2)))\n",
    "    return angle\n",
    "\n",
    "def normal_pose(pose):\n",
    "    if pose[2][3] == -1:\n",
    "        return 0\n",
    "    if min(pose[8][2], pose[14][2]) < 0 or min(pose[8][2], pose[14][2]) > 150:\n",
    "        return 0\n",
    "    '''\n",
    "    코, 목, 골반을 잇는 관절을 기준으로 팔꿈치, 무릎 관절들이 안/밖으로 튀어나가는지 확인\n",
    "    '''\n",
    "    ref_vector = np.cross(pose[2][:3] - pose[0][:3], pose[1][:3] - pose[0][:3])\n",
    "    ankle_vectors = []\n",
    "    ankle_vectors.append(np.cross(pose[5][:3] - pose[4][:3], pose[3][:3] - pose[4][:3]))\n",
    "    ankle_vectors.append(np.cross(pose[11][:3] - pose[10][:3], pose[9][:3] - pose[10][:3]))\n",
    "    ankle_vectors.append(np.cross(pose[6][:3] - pose[7][:3], pose[8][:3] - pose[7][:3]))\n",
    "    ankle_vectors.append(np.cross(pose[12][:3] - pose[13][:3], pose[14][:3] - pose[13][:3]))\n",
    "    \n",
    "    for ankle_vector in ankle_vectors:\n",
    "        ref_vector_norm = np.linalg.norm(ref_vector)\n",
    "        ankle_vector_norm = np.linalg.norm(ankle_vector)\n",
    "        angle = math.degrees(math.acos(np.dot(ref_vector, ankle_vector) / (ref_vector_norm * ankle_vector_norm)))\n",
    "        if angle > 90:\n",
    "            return 0\n",
    "    '''\n",
    "    팔, 다리 길이 비율 확인(미완성)\n",
    "    '''\n",
    "    return 1\n",
    "\n",
    "def update_plot(frame_num, ax, fig, pred):\n",
    "    ax.clear()\n",
    "    for pose in pred:\n",
    "        # if normal_pose(pose)==False:\n",
    "        #     continue\n",
    "        if pose[2][3] == -1:\n",
    "            continue\n",
    "        if min(pose[8][2], pose[14][2]) < 0 or min(pose[8][2], pose[14][2]) > 150:\n",
    "            continue\n",
    "\n",
    "        x = pose[:, 0]\n",
    "        y = pose[:, 1]\n",
    "        z = pose[:, 2]\n",
    "\n",
    "        ax.scatter(x, y, z, c='r', marker='o')\n",
    "\n",
    "        for limb in LIMBS:\n",
    "            joint1, joint2 = limb\n",
    "            x_values = [pose[joint1][0], pose[joint2][0]]\n",
    "            y_values = [pose[joint1][1], pose[joint2][1]]\n",
    "            z_values = [pose[joint1][2], pose[joint2][2]]\n",
    "            ax.plot(x_values, y_values, z_values, 'ro-')\n",
    "\n",
    "    ax.set_xlabel('X Label')\n",
    "    ax.set_ylabel('Y Label')\n",
    "    ax.set_zlabel('Z Label')\n",
    "    ax.set_title(f'Frame {frame_num}')\n",
    "    ax.set_xlim(-2500, 2500)  # x축 범위 설정\n",
    "    ax.set_ylim(-2500, 2500)  # y축 범위 설정\n",
    "    ax.set_zlim(0, 2000)  # z축 범위 설정\n",
    "\n",
    "fig = plt.figure()\n",
    "ax = fig.add_subplot(111, projection='3d')\n",
    "\n",
    "\n",
    "outfile = '../temp/sample.avi'\n",
    "writer = imageio.get_writer(outfile, fps=15)\n",
    "\n",
    "for i, pred in enumerate(preds):\n",
    "    update_plot(i, ax, fig, pred)\n",
    "    fig.canvas.draw()\n",
    "    frame = np.array(fig.canvas.renderer.buffer_rgba())\n",
    "    writer.append_data(frame)\n",
    "\n",
    "writer.close()\n",
    "\n",
    "print(f'Animation saved as {outfile}')\n"
   ]
  },
  {
   "cell_type": "markdown",
   "metadata": {},
   "source": [
    "### 출력\n",
    "포즈 예측 결과를 피클 파일로 출력"
   ]
  },
  {
   "cell_type": "code",
   "execution_count": 1,
   "metadata": {},
   "outputs": [],
   "source": [
    "import pickle\n",
    "with open(\"../output.pkl\", \"rb\") as f:\n",
    "    output = pickle.load(f)"
   ]
  },
  {
   "cell_type": "code",
   "execution_count": 12,
   "metadata": {},
   "outputs": [],
   "source": [
    "import pickle\n",
    "\n",
    "with open(\"/home/zzol/SelfPose3d/result_1.pkl\", \"rb\") as f:\n",
    "    result = pickle.load(f)"
   ]
  },
  {
   "cell_type": "code",
   "execution_count": 25,
   "metadata": {},
   "outputs": [
    {
     "data": {
      "text/plain": [
       "dict_keys(['age', 'gender', 'preds_3d', 'roots_3d'])"
      ]
     },
     "execution_count": 25,
     "metadata": {},
     "output_type": "execute_result"
    }
   ],
   "source": [
    "result[1000][3].keys()"
   ]
  },
  {
   "cell_type": "markdown",
   "metadata": {},
   "source": [
    "### 부록1\n",
    "실시간 카메라 입력과 모델 예측 시각화 출력을 위한 데이터셋 정의"
   ]
  },
  {
   "cell_type": "code",
   "execution_count": 4,
   "metadata": {},
   "outputs": [],
   "source": [
    "\n",
    "from __future__ import absolute_import\n",
    "from __future__ import division\n",
    "from __future__ import print_function\n",
    "\n",
    "import numpy as np\n",
    "import torch\n",
    "import torch.backends.cudnn as cudnn\n",
    "from torch.utils.data import DataLoader, IterableDataset\n",
    "import torch.utils.data.distributed\n",
    "import torchvision.transforms as transforms\n",
    "from tqdm import tqdm\n",
    "import cv2\n",
    "import pickle\n",
    "import glob\n",
    "import os\n",
    "\n",
    "import _init_paths\n",
    "from core.config import config\n",
    "from core.config import update_config\n",
    "import dataset\n",
    "import models\n",
    "from utils.transforms import get_affine_transform, get_scale\n",
    "\n",
    "# config 파일 설정을 불러오기 위한 함수\n",
    "update_config(r\"/home/zzol/SelfPose3d/aisl/config/cam4_posenet.yaml\")\n",
    "# 사용할 사전 학습된 모델 경로\n",
    "test_file = r\"/home/zzol/SelfPose3d/models/cam5_posenet.pth.tar\"\n",
    "\n",
    "# 사용할 GPU 번호\n",
    "gpus = [0]\n",
    "\n",
    "normalize = transforms.Normalize(\n",
    "        mean=[0.485, 0.456, 0.406], std=[0.229, 0.224, 0.225])\n",
    "\n",
    "cudnn.benchmark = config.CUDNN.BENCHMARK\n",
    "torch.backends.cudnn.deterministic = config.CUDNN.DETERMINISTIC\n",
    "torch.backends.cudnn.enabled = config.CUDNN.ENABLED\n",
    "\n",
    "# 실시간 데이터셋 클래스 정의 (IterableDataset 상속)\n",
    "class RT_POCdataset(IterableDataset):\n",
    "    def __init__(self, cfg, transform=None):\n",
    "        # usb 카메라 source 번호 (직접 찾거나 확인 필요)\n",
    "        self.video_source = [4, 12, 22, 26]\n",
    "        # 입력 이미지 전처리 torchvision 함수\n",
    "        self.transform = transform\n",
    "        self.image_size = np.array(cfg.NETWORK.IMAGE_SIZE)\n",
    "        # 카메라 정보\n",
    "        self.camera = self.get_camera()\n",
    "\n",
    "    def get_cap(self, source):\n",
    "        print(f'source: {source}')\n",
    "        cap = cv2.VideoCapture(source)\n",
    "        cap.set(cv2.CAP_PROP_FRAME_WIDTH, 1920)\n",
    "        cap.set(cv2.CAP_PROP_FRAME_HEIGHT, 1080)\n",
    "        cap.set(cv2.CAP_PROP_FPS, 15)\n",
    "        return cap\n",
    "\n",
    "    def get_camera(self):\n",
    "        camera = []\n",
    "        for i in range(1, 5):\n",
    "            meta_file = rf\"/home/zzol/SelfPose3d/aisl/data_0715/calibration/camera{i}.pkl\"\n",
    "            with open(meta_file, \"rb\") as f:\n",
    "                calib = pickle.load(f)\n",
    "            \n",
    "            R, _ = cv2.Rodrigues(calib['rvec'])\n",
    "            T = (\n",
    "                -np.dot(R.T, calib['tvec']) * 1000 # mm 단위로 변환\n",
    "            )\n",
    "\n",
    "            # m 딕셔너리 생성\n",
    "            cam = {\n",
    "                'R': R,\n",
    "                'T': T,\n",
    "                'fx': calib['camera_matrix'][0, 0],\n",
    "                'fy': calib['camera_matrix'][1, 1],\n",
    "                'cx': calib['camera_matrix'][0, 2],\n",
    "                'cy': calib['camera_matrix'][1, 2],\n",
    "                'k': calib['dist_coeffs'][0][[0,1,4]].reshape(3, 1),  # 왜곡 계수 k1, k2, k3\n",
    "                'p': calib['dist_coeffs'][0][[2,3]].reshape(2, 1)  # 왜곡 계수 p1, p2\n",
    "            }\n",
    "            camera.append(cam)\n",
    "        return camera\n",
    "\n",
    "    def get_meta(self, c, s, r):\n",
    "        meta = []\n",
    "        for i in range(4):\n",
    "            # m 딕셔너리 생성\n",
    "            m = {\n",
    "            'center': c,\n",
    "            'scale': s,\n",
    "            'rotation': r,\n",
    "            'camera': self.camera[i]\n",
    "            }\n",
    "            meta.append(m)\n",
    "        return meta\n",
    "\n",
    "    def __iter__(self):\n",
    "        caps = [self.get_cap(source) for source in self.video_source]\n",
    "        for i, cap in enumerate(caps):\n",
    "            if not cap.isOpened():\n",
    "                raise RuntimeError(f\"Failed to open camera {self.video_source[i]}\")\n",
    "            \n",
    "        while True:\n",
    "            frames = []\n",
    "            for i, cap in enumerate(caps):\n",
    "                ret, frame = cap.read()\n",
    "                if not ret:\n",
    "                    print(f'failed to read frame: {i}')\n",
    "                    break\n",
    "                frames.append(frame)\n",
    "\n",
    "            if len(frames) != len(caps):\n",
    "                print(f'frame length: {len(frames)}')\n",
    "                print(f'cap length: {len(caps)}')\n",
    "                print(\"모든 카메라로부터 프레임을 읽지 못했습니다.\")\n",
    "                break\n",
    "            \n",
    "            inputs = []\n",
    "            for data_numpy in frames:                        \n",
    "                data_numpy = cv2.cvtColor(data_numpy, cv2.COLOR_BGR2RGB)     \n",
    "\n",
    "                height, width, _ = data_numpy.shape\n",
    "                c = np.array([width / 2.0, height / 2.0])\n",
    "                s = get_scale((width, height), self.image_size)\n",
    "                r = 0\n",
    "\n",
    "                trans = get_affine_transform(c, s, r, self.image_size)\n",
    "                input = cv2.warpAffine(\n",
    "                    data_numpy,\n",
    "                    trans, (int(self.image_size[0]), int(self.image_size[1])),\n",
    "                    flags=cv2.INTER_LINEAR)\n",
    "                input = self.transform(input)\n",
    "\n",
    "                inputs.append(input)\n",
    "            \n",
    "            meta = self.get_meta(c, s, r)\n",
    "\n",
    "            yield inputs, meta\n",
    "\n",
    "        for cap in caps:\n",
    "            cap.release()\n",
    "\n",
    "test_dataset = RT_POCdataset(\n",
    "        config, transforms.Compose([\n",
    "            transforms.ToTensor(),\n",
    "            normalize,\n",
    "        ]))\n",
    "\n",
    "test_loader = DataLoader(\n",
    "        test_dataset,\n",
    "        batch_size=1,\n",
    "        shuffle=False,)"
   ]
  },
  {
   "cell_type": "code",
   "execution_count": null,
   "metadata": {},
   "outputs": [],
   "source": [
    "import matplotlib.pyplot as plt\n",
    "import matplotlib.animation as animation\n",
    "from mpl_toolkits.mplot3d import Axes3D\n",
    "import numpy as np\n",
    "import imageio\n",
    "\n",
    "model.eval()\n",
    "with torch.no_grad():\n",
    "    for inputs, meta in test_loader:\n",
    "        pred, heatmaps, grid_centers = model(views1=inputs, meta1=meta, inference=True)\n",
    "        heatmap = heatmaps[0].squeeze(0).cpu().numpy()\n",
    "        cv2.imshow(\"RT_heatmap\", heatmap[2])\n",
    "        cv2.waitKey(1)\n",
    "        # pred = pred[0].detach().cpu().numpy()"
   ]
  },
  {
   "cell_type": "code",
   "execution_count": 1,
   "metadata": {},
   "outputs": [
    {
     "ename": "SyntaxError",
     "evalue": "invalid syntax (2115795192.py, line 49)",
     "output_type": "error",
     "traceback": [
      "\u001b[0;36m  Cell \u001b[0;32mIn[1], line 49\u001b[0;36m\u001b[0m\n\u001b[0;31m    O 'center': c,\u001b[0m\n\u001b[0m      ^\u001b[0m\n\u001b[0;31mSyntaxError\u001b[0m\u001b[0;31m:\u001b[0m invalid syntax\n"
     ]
    }
   ],
   "source": [
    "# MultiPersonPoseNetSSV\n",
    "def forward(\n",
    "    self,\n",
    "    views1=None,\n",
    "    meta1=None,\n",
    "    inference=True,\n",
    "    epoch=0,\n",
    "):\n",
    "    if inference:\n",
    "        return self.do_inference(views=views1, meta=meta1, input_heatmaps=None, visualize_attn=False)\n",
    "\n",
    "def do_inference(self, views=None, meta=None, input_heatmaps=None, visualize_attn=False):\n",
    "    if views is not None:\n",
    "        all_heatmaps = []\n",
    "        for view in views:\n",
    "            heatmaps = self.backbone(view)\n",
    "            all_heatmaps.append(heatmaps)\n",
    "\n",
    "    device = all_heatmaps[0].device\n",
    "    batch_size = all_heatmaps[0].shape[0]\n",
    "\n",
    "    _, _, _, grid_centers = self.root_net(all_heatmaps, meta)\n",
    "    print(\"rootnet finished\")\n",
    "\n",
    "    pred = torch.zeros(batch_size, self.num_cand, self.num_joints, 5, device=device)\n",
    "    pred[:, :, :, 3:] = grid_centers[:, :, 3:].reshape(batch_size, -1, 1, 2)\n",
    "\n",
    "    if not self.train_only_rootnet:\n",
    "        if not self.train_only_2d:\n",
    "            for n in range(self.num_cand):\n",
    "                index = pred[:, n, 0, 3] >= 0\n",
    "                if torch.sum(index) > 0:\n",
    "                    single_pose = self.pose_net(all_heatmaps, meta, grid_centers[:, n])\n",
    "                    pred[:, n, :, 0:3] = single_pose.detach()\n",
    "                    del single_pose\n",
    "    print(\"posenet finished\")\n",
    "\n",
    "    return pred, all_heatmaps, grid_centers\n",
    "\n",
    "\n",
    "meta = {\n",
    "            'image': image_file,\n",
    "            'num_person': nposes,\n",
    "            'joints_3d': joints_3d_u,\n",
    "            'joints_3d_vis': joints_3d_vis_u,\n",
    "            'roots_3d': roots_3d,\n",
    "            'joints': joints_u,\n",
    "            'joints_vis': joints_vis_u,\n",
    "            O 'center': c,\n",
    "            O 'scale': s,\n",
    "            O 'rotation': r,\n",
    "            O 'camera': db_rec['camera']\n",
    "        }\n"
   ]
  },
  {
   "cell_type": "markdown",
   "metadata": {},
   "source": [
    "### 부록2\n",
    "모델의 연산과정 코드"
   ]
  },
  {
   "cell_type": "markdown",
   "metadata": {},
   "source": [
    "rootnet (cuboid_proposal_net_soft)"
   ]
  },
  {
   "cell_type": "code",
   "execution_count": null,
   "metadata": {},
   "outputs": [],
   "source": [
    "# rootnet\n",
    "def forward(self, all_heatmaps, meta, flip_xcoords=None):\n",
    "    if self.rootnet_train_synth:\n",
    "        root_cubes_main, grid_centers = self.get_grid_centres(all_heatmaps, meta, flip_xcoords)\n",
    "        return root_cubes_main, None, None, grid_centers\n",
    "    \n",
    "def get_grid_centres(self, all_heatmaps, meta, flip_xcoords):\n",
    "    # with torch.no_grad():\n",
    "    # self.v2v_net.eval()\n",
    "    all_heatmaps_copy = [a[:, self.root_id, :, :][:, None].clone() for a in all_heatmaps]\n",
    "\n",
    "    initial_cubes, grids = self.project_layer(\n",
    "        all_heatmaps_copy,\n",
    "        meta,\n",
    "        self.grid_size,\n",
    "        [self.grid_center],\n",
    "        self.cube_size,\n",
    "        flip_xcoords=flip_xcoords,\n",
    "    )\n",
    "    root_cubes = self.v2v_net(initial_cubes)\n",
    "    root_cubes = root_cubes.squeeze(1)\n",
    "    grid_centers = self.proposal_layer(root_cubes, meta, grids)\n",
    "\n",
    "    return root_cubes, grid_centers\n",
    "\n",
    "# project_layer\n",
    "def forward(self, heatmaps, meta, grid_size, grid_center, cube_size, flip_xcoords=None):\n",
    "    cubes, grids = self.get_voxel(heatmaps, meta, grid_size, grid_center, cube_size, flip_xcoords=flip_xcoords)\n",
    "    return cubes, grids"
   ]
  },
  {
   "cell_type": "code",
   "execution_count": null,
   "metadata": {},
   "outputs": [],
   "source": [
    "def get_voxel(self, heatmaps, meta, grid_size, grid_center, cube_size, flip_xcoords=None):\n",
    "    device = heatmaps[0].device\n",
    "    batch_size = heatmaps[0].shape[0]\n",
    "    num_joints = heatmaps[0].shape[1]\n",
    "    nbins = cube_size[0] * cube_size[1] * cube_size[2] # = 8000 * 8000 * 2000\n",
    "    n = len(heatmaps)\n",
    "    cubes = torch.zeros(batch_size, num_joints, 1, nbins, n, device=device) # (1, 15, 1, 8000*8000*2000, 4)\n",
    "    # h, w = heatmaps[0].shape[2], heatmaps[0].shape[3]\n",
    "    w, h = self.heatmap_size\n",
    "    grids = torch.zeros(batch_size, nbins, 3, device=device) # (1, 8000*8000*2000, 3)\n",
    "    bounding = torch.zeros(batch_size, 1, 1, nbins, n, device=device) # (batch_size, 1, 1, 8000*8000*2000, 4)\n",
    "    for i in range(batch_size):\n",
    "        if len(grid_center[0]) == 3 or grid_center[i][3] >= 0:\n",
    "            # This part of the code can be optimized because the projection operation is time-consuming.\n",
    "            # If the camera locations always keep the same, the grids and sample_grids are repeated across frames\n",
    "            # and can be computed only one time.\n",
    "            # 그리드 격자 생성\n",
    "            if len(grid_center) == 1:\n",
    "                grid = self.compute_grid(grid_size, grid_center[0], cube_size, device=device)\n",
    "            else:\n",
    "                grid = self.compute_grid(grid_size, grid_center[i], cube_size, device=device)\n",
    "            grids[i:i + 1] = grid\n",
    "            # grid = (-4000 -3500 -200) ~ (4000 4500 1800)\n",
    "            for c in range(n):\n",
    "                center = meta[c]['center'][i]\n",
    "                scale = meta[c]['scale'][i]\n",
    "                rotation = meta[c]['rotation'][i]\n",
    "\n",
    "                width, height = center * 2\n",
    "                trans = torch.as_tensor(\n",
    "                    get_transform(center, scale, rotation, self.img_size),\n",
    "                    dtype=torch.float,\n",
    "                    device=device)\n",
    "                cam = {}\n",
    "                for k, v in meta[c]['camera'].items():\n",
    "                    cam[k] = v[i]\n",
    "                # 월드 좌표를 카메라 좌표로 변환 (캘리브레이션)\n",
    "                xy = cameras.project_pose(grid, cam)\n",
    "\n",
    "                bounding[i, 0, 0, :, c] = (xy[:, 0] >= 0) & (xy[:, 1] >= 0) & (xy[:, 0] < width) & (\n",
    "                            xy[:, 1] < height)\n",
    "                xy = torch.clamp(xy, -1.0, max(width, height))\n",
    "                xy = do_transform(xy, trans)\n",
    "                if flip_xcoords is not None and flip_xcoords[i]:\n",
    "                    xy[..., 0] = self.img_size[0] - xy[..., 0]\n",
    "                xy = xy * torch.tensor(\n",
    "                    [w, h], dtype=torch.float, device=device) / torch.tensor(\n",
    "                    self.img_size, dtype=torch.float, device=device)\n",
    "                sample_grid = xy / torch.tensor(\n",
    "                    [w - 1, h - 1], dtype=torch.float,\n",
    "                    device=device) * 2.0 - 1.0\n",
    "                sample_grid = torch.clamp(sample_grid.view(1, 1, nbins, 2), -1.1, 1.1)\n",
    "\n",
    "                # if pytorch version < 1.3.0, align_corners=True should be omitted.\n",
    "                cubes[i:i + 1, :, :, :, c] += F.grid_sample(heatmaps[c][i:i + 1, :, :, :], sample_grid, align_corners=True)\n",
    "\n",
    "    # cubes = cubes.mean(dim=-1)\n",
    "    cubes = torch.sum(torch.mul(cubes, bounding), dim=-1) / (torch.sum(bounding, dim=-1) + 1e-6)\n",
    "    cubes = cubes.clone()\n",
    "    cubes[cubes != cubes] = 0.0\n",
    "    cubes = cubes.clamp(0.0, 1.0)\n",
    "\n",
    "    cubes = cubes.view(batch_size, num_joints, cube_size[0], cube_size[1], cube_size[2])  ##\n",
    "    return cubes, grids\n"
   ]
  },
  {
   "cell_type": "code",
   "execution_count": null,
   "metadata": {},
   "outputs": [],
   "source": [
    "# proposal_layer\n",
    "def forward(self, root_cubes, meta, grids):\n",
    "    batch_size = root_cubes.shape[0]\n",
    "\n",
    "    topk_values, topk_unravel_index = nms(root_cubes.detach(), self.num_cand)\n",
    "    topk_unravel_index = self.get_real_loc(topk_unravel_index)\n",
    "\n",
    "    grid_centers = torch.zeros(batch_size, self.num_cand, 5, device=root_cubes.device)\n",
    "    grid_centers[:, :, 0:3] = topk_unravel_index\n",
    "    grid_centers[:, :, 4] = topk_values\n",
    "\n",
    "    grid_centers[:, :, 3] = (\n",
    "        topk_values > self.threshold\n",
    "    ).float() - 1.0  # if ground-truths are not available.\n",
    "\n",
    "    return grid_centers"
   ]
  },
  {
   "cell_type": "markdown",
   "metadata": {},
   "source": [
    "posenet (PoseRegressionNet)"
   ]
  },
  {
   "cell_type": "code",
   "execution_count": null,
   "metadata": {},
   "outputs": [],
   "source": [
    "# posenet\n",
    "def forward(self, all_heatmaps, meta, grid_centers, flip_xcoords=None):\n",
    "    batch_size = all_heatmaps[0].shape[0]\n",
    "    num_joints = all_heatmaps[0].shape[1]\n",
    "    device = all_heatmaps[0].device\n",
    "    pred = torch.zeros(batch_size, num_joints, 3, device=device)\n",
    "    cubes, grids = self.project_layer(all_heatmaps, meta,\n",
    "                                        self.grid_size, grid_centers, self.cube_size, flip_xcoords=flip_xcoords)\n",
    "\n",
    "    index = grid_centers[:, 3] >= 0\n",
    "    valid_cubes = self.v2v_net(cubes[index])\n",
    "    pred[index] = self.soft_argmax_layer(valid_cubes, grids[index])\n",
    "\n",
    "    return pred"
   ]
  },
  {
   "cell_type": "markdown",
   "metadata": {},
   "source": [
    "# 연습장"
   ]
  },
  {
   "cell_type": "code",
   "execution_count": 3,
   "metadata": {},
   "outputs": [],
   "source": [
    "data_iter = iter(test_loader)\n",
    "inputs, meta = next(data_iter)"
   ]
  },
  {
   "cell_type": "code",
   "execution_count": 4,
   "metadata": {},
   "outputs": [
    {
     "data": {
      "text/plain": [
       "torch.Size([4, 3, 512, 960])"
      ]
     },
     "execution_count": 4,
     "metadata": {},
     "output_type": "execute_result"
    }
   ],
   "source": [
    "inputs[0].shape"
   ]
  },
  {
   "cell_type": "code",
   "execution_count": 5,
   "metadata": {},
   "outputs": [],
   "source": [
    "all_heatmaps = []\n",
    "for view in inputs:\n",
    "    view = view.cuda()\n",
    "    heatmaps = model.module.backbone(view)\n",
    "    all_heatmaps.append(heatmaps)\n"
   ]
  },
  {
   "cell_type": "code",
   "execution_count": 6,
   "metadata": {},
   "outputs": [
    {
     "data": {
      "text/plain": [
       "torch.Size([4, 15, 128, 240])"
      ]
     },
     "execution_count": 6,
     "metadata": {},
     "output_type": "execute_result"
    }
   ],
   "source": [
    "all_heatmaps[0].shape"
   ]
  },
  {
   "cell_type": "code",
   "execution_count": 28,
   "metadata": {},
   "outputs": [
    {
     "name": "stdout",
     "output_type": "stream",
     "text": [
      "4\n"
     ]
    }
   ],
   "source": [
    "di, dm = test_dataset[0]\n",
    "print(len(di))"
   ]
  },
  {
   "cell_type": "code",
   "execution_count": 36,
   "metadata": {},
   "outputs": [
    {
     "data": {
      "text/plain": [
       "torch.Size([3, 512, 960])"
      ]
     },
     "execution_count": 36,
     "metadata": {},
     "output_type": "execute_result"
    }
   ],
   "source": [
    "di[0].shape"
   ]
  },
  {
   "cell_type": "code",
   "execution_count": 9,
   "metadata": {},
   "outputs": [
    {
     "data": {
      "text/plain": [
       "array([[-5.0633057e+01,  1.8797471e+03,  8.5263159e+02,  0.0000000e+00,\n",
       "         5.4371047e-01],\n",
       "       [ 4.5569629e+02,  1.3734180e+03,  7.4736841e+02, -1.0000000e+00,\n",
       "         1.5906982e-01],\n",
       "       [ 1.0632910e+03,  6.6455713e+02,  7.4736841e+02, -1.0000000e+00,\n",
       "         5.0562765e-02],\n",
       "       [ 1.0632910e+03,  9.6835400e+02,  8.5263159e+02, -1.0000000e+00,\n",
       "         4.0693417e-02],\n",
       "       [ 8.6075928e+02,  6.6455713e+02,  7.4736841e+02, -1.0000000e+00,\n",
       "         4.0572539e-02],\n",
       "       [ 8.6075928e+02,  9.6835400e+02,  1.0631577e+03, -1.0000000e+00,\n",
       "         2.8884413e-02],\n",
       "       [ 8.6075928e+02,  3.6075928e+02,  1.0631577e+03, -1.0000000e+00,\n",
       "         2.6954655e-02],\n",
       "       [ 8.6075928e+02,  5.6329102e+02,  1.0631577e+03, -1.0000000e+00,\n",
       "         2.6828468e-02],\n",
       "       [ 5.5696191e+02,  3.6075928e+02,  9.5789478e+02, -1.0000000e+00,\n",
       "         1.9179787e-02],\n",
       "       [ 8.6075928e+02,  1.5822803e+02,  1.2736841e+03, -1.0000000e+00,\n",
       "         1.3165885e-02]], dtype=float32)"
      ]
     },
     "execution_count": 9,
     "metadata": {},
     "output_type": "execute_result"
    }
   ],
   "source": [
    "roots[160]"
   ]
  }
 ],
 "metadata": {
  "kernelspec": {
   "display_name": "selfpose3d",
   "language": "python",
   "name": "python3"
  },
  "language_info": {
   "codemirror_mode": {
    "name": "ipython",
    "version": 3
   },
   "file_extension": ".py",
   "mimetype": "text/x-python",
   "name": "python",
   "nbconvert_exporter": "python",
   "pygments_lexer": "ipython3",
   "version": "3.9.19"
  }
 },
 "nbformat": 4,
 "nbformat_minor": 2
}
